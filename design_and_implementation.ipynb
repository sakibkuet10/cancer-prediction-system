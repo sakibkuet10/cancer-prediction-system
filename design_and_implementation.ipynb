{
  "cells": [
    {
      "cell_type": "markdown",
      "source": [
        "# **Intelligent Systems**"
      ],
      "metadata": {
        "id": "PCMSFKSzqPNG"
      }
    },
    {
      "cell_type": "markdown",
      "metadata": {
        "id": "zSmWxNNc8JbP"
      },
      "source": [
        "# Load data"
      ]
    },
    {
      "cell_type": "code",
      "execution_count": null,
      "metadata": {
        "colab": {
          "base_uri": "https://localhost:8080/",
          "height": 434
        },
        "id": "TWPQnw4sYXwn",
        "outputId": "a2d9d3c2-2a86-4318-9226-a1ef9592fc33"
      },
      "outputs": [
        {
          "name": "stdout",
          "output_type": "stream",
          "text": [
            "Mounted at /content/drive\n"
          ]
        },
        {
          "data": {
            "text/html": [
              "<div>\n",
              "<style scoped>\n",
              "    .dataframe tbody tr th:only-of-type {\n",
              "        vertical-align: middle;\n",
              "    }\n",
              "\n",
              "    .dataframe tbody tr th {\n",
              "        vertical-align: top;\n",
              "    }\n",
              "\n",
              "    .dataframe thead th {\n",
              "        text-align: right;\n",
              "    }\n",
              "</style>\n",
              "<table border=\"1\" class=\"dataframe\">\n",
              "  <thead>\n",
              "    <tr style=\"text-align: right;\">\n",
              "      <th></th>\n",
              "      <th>Site number</th>\n",
              "      <th>Patient number</th>\n",
              "      <th>Patient id in former eCRF</th>\n",
              "      <th>Date of consent</th>\n",
              "      <th>Inclusion criteria</th>\n",
              "      <th>First name</th>\n",
              "      <th>Last name</th>\n",
              "      <th>Gender</th>\n",
              "      <th>Birth date</th>\n",
              "      <th>Patient code in the center</th>\n",
              "      <th>Date of referral in the center</th>\n",
              "      <th>Height</th>\n",
              "      <th>Weight</th>\n",
              "      <th>Date of creation of patient</th>\n",
              "      <th>Did the patient have pre-colectomy therapy (radiotherapy excluded)</th>\n",
              "      <th>Specify</th>\n",
              "      <th>Did the patient have pre-colectomy radiotherapy</th>\n",
              "      <th>Laparoscopic resection</th>\n",
              "      <th>Date of first colectomy</th>\n",
              "      <th>Tumor</th>\n",
              "      <th>Node</th>\n",
              "      <th>Metastasis</th>\n",
              "      <th>Number of resected lymph nodes</th>\n",
              "      <th>Number of resected lymph nodes.1</th>\n",
              "      <th>Number of metastatic lymph nodes</th>\n",
              "      <th>Number of metastatic lymph nodes.1</th>\n",
              "      <th>Tumor margin (rectal tumor only)</th>\n",
              "      <th>EGFR amplification</th>\n",
              "      <th>Other mutation</th>\n",
              "      <th>Which</th>\n",
              "      <th>Microsatellite</th>\n",
              "      <th>Diagnosis date</th>\n",
              "      <th>Synchronicity of colorectal cancer</th>\n",
              "      <th>Number of hepatic metastases</th>\n",
              "      <th>Number of hepatic metastases.1</th>\n",
              "      <th>Hepatic metastases maximum size (mm)</th>\n",
              "      <th>Hepatic metastases maximum size</th>\n",
              "      <th>Localization</th>\n",
              "      <th>Side</th>\n",
              "      <th>KRAS mutation</th>\n",
              "      <th>Which.1</th>\n",
              "      <th>Microsatellite.1</th>\n",
              "      <th>CT scan abdominal</th>\n",
              "      <th>CT scan chest</th>\n",
              "      <th>MRI</th>\n",
              "      <th>Pet CT</th>\n",
              "      <th>Scintigraphy</th>\n",
              "      <th>Initial resectability</th>\n",
              "      <th>Specify.1</th>\n",
              "      <th>Main reason</th>\n",
              "      <th>ECOG PS at Metastatic diagnosis</th>\n",
              "      <th>Leucocytes</th>\n",
              "      <th>Lower normal range</th>\n",
              "      <th>Higher  normal range</th>\n",
              "      <th>Hemoglobin</th>\n",
              "      <th>Lower normal range.1</th>\n",
              "      <th>Higher normal range</th>\n",
              "      <th>Platelets</th>\n",
              "      <th>Lower normal range.2</th>\n",
              "      <th>Higher normal range.1</th>\n",
              "      <th>CEA</th>\n",
              "      <th>Lower normal range.3</th>\n",
              "      <th>Higher normal range.2</th>\n",
              "      <th>Alkaline phosphatases</th>\n",
              "      <th>Lower normal range.4</th>\n",
              "      <th>Higher normal range.3</th>\n",
              "      <th>LDH</th>\n",
              "      <th>Lower normal range.5</th>\n",
              "      <th>Higher normal range.4</th>\n",
              "      <th>Albumin</th>\n",
              "      <th>Lower normal range.6</th>\n",
              "      <th>Higher normal range.5</th>\n",
              "      <th>CA19.9</th>\n",
              "      <th>Lower normal range.7</th>\n",
              "      <th>Higher normal range.6</th>\n",
              "      <th>Does the patient have concomitant extra-hepatic metastases</th>\n",
              "      <th>Diagnosis date.1</th>\n",
              "      <th>CEA (car-old)</th>\n",
              "      <th>PATIENT_STATUS</th>\n",
              "    </tr>\n",
              "  </thead>\n",
              "  <tbody>\n",
              "    <tr>\n",
              "      <th>0</th>\n",
              "      <td>95</td>\n",
              "      <td>176</td>\n",
              "      <td>176.0</td>\n",
              "      <td>NaT</td>\n",
              "      <td>Yes</td>\n",
              "      <td>XXX</td>\n",
              "      <td>XXX</td>\n",
              "      <td>Male</td>\n",
              "      <td>NaT</td>\n",
              "      <td>176</td>\n",
              "      <td>2008-07-04</td>\n",
              "      <td>NaN</td>\n",
              "      <td>NaN</td>\n",
              "      <td>2018-06-15</td>\n",
              "      <td>No</td>\n",
              "      <td>NaN</td>\n",
              "      <td>No</td>\n",
              "      <td>No</td>\n",
              "      <td>NaT</td>\n",
              "      <td>T3</td>\n",
              "      <td>N0</td>\n",
              "      <td>M0</td>\n",
              "      <td>ND</td>\n",
              "      <td>ND</td>\n",
              "      <td>0</td>\n",
              "      <td>0</td>\n",
              "      <td>NaN</td>\n",
              "      <td>NaN</td>\n",
              "      <td>NaN</td>\n",
              "      <td>NaN</td>\n",
              "      <td>NaN</td>\n",
              "      <td>2008-06-13</td>\n",
              "      <td>No</td>\n",
              "      <td>1</td>\n",
              "      <td>1</td>\n",
              "      <td>56</td>\n",
              "      <td>56</td>\n",
              "      <td>Unilateral</td>\n",
              "      <td>NaN</td>\n",
              "      <td>NaN</td>\n",
              "      <td>NaN</td>\n",
              "      <td>NaN</td>\n",
              "      <td>Yes</td>\n",
              "      <td>Yes</td>\n",
              "      <td>No</td>\n",
              "      <td>No</td>\n",
              "      <td>NaN</td>\n",
              "      <td>Yes</td>\n",
              "      <td>NaN</td>\n",
              "      <td>NaN</td>\n",
              "      <td>NaN</td>\n",
              "      <td>NaN</td>\n",
              "      <td>NaN</td>\n",
              "      <td>NaN</td>\n",
              "      <td>NaN</td>\n",
              "      <td>NaN</td>\n",
              "      <td>NaN</td>\n",
              "      <td>NaN</td>\n",
              "      <td>NaN</td>\n",
              "      <td>NaN</td>\n",
              "      <td>87.9</td>\n",
              "      <td>NaN</td>\n",
              "      <td>NaN</td>\n",
              "      <td>NaN</td>\n",
              "      <td>NaN</td>\n",
              "      <td>NaN</td>\n",
              "      <td>NaN</td>\n",
              "      <td>NaN</td>\n",
              "      <td>NaN</td>\n",
              "      <td>NaN</td>\n",
              "      <td>NaN</td>\n",
              "      <td>NaN</td>\n",
              "      <td>NaN</td>\n",
              "      <td>NaN</td>\n",
              "      <td>NaN</td>\n",
              "      <td>No</td>\n",
              "      <td>NaT</td>\n",
              "      <td>87.9</td>\n",
              "      <td>Deceased</td>\n",
              "    </tr>\n",
              "    <tr>\n",
              "      <th>1</th>\n",
              "      <td>95</td>\n",
              "      <td>331</td>\n",
              "      <td>331.0</td>\n",
              "      <td>NaT</td>\n",
              "      <td>Yes</td>\n",
              "      <td>XXX</td>\n",
              "      <td>XXX</td>\n",
              "      <td>Female</td>\n",
              "      <td>NaT</td>\n",
              "      <td>331</td>\n",
              "      <td>2010-02-26</td>\n",
              "      <td>NaN</td>\n",
              "      <td>NaN</td>\n",
              "      <td>2018-06-15</td>\n",
              "      <td>No</td>\n",
              "      <td>NaN</td>\n",
              "      <td>No</td>\n",
              "      <td>No</td>\n",
              "      <td>NaT</td>\n",
              "      <td>T3</td>\n",
              "      <td>N1</td>\n",
              "      <td>M1</td>\n",
              "      <td>ND</td>\n",
              "      <td>ND</td>\n",
              "      <td>ND</td>\n",
              "      <td>ND</td>\n",
              "      <td>NaN</td>\n",
              "      <td>NaN</td>\n",
              "      <td>NaN</td>\n",
              "      <td>NaN</td>\n",
              "      <td>NaN</td>\n",
              "      <td>NaT</td>\n",
              "      <td>Yes</td>\n",
              "      <td>1</td>\n",
              "      <td>1</td>\n",
              "      <td>30</td>\n",
              "      <td>30</td>\n",
              "      <td>Unilateral</td>\n",
              "      <td>NaN</td>\n",
              "      <td>NaN</td>\n",
              "      <td>NaN</td>\n",
              "      <td>NaN</td>\n",
              "      <td>Yes</td>\n",
              "      <td>Yes</td>\n",
              "      <td>Yes</td>\n",
              "      <td>No</td>\n",
              "      <td>NaN</td>\n",
              "      <td>Yes</td>\n",
              "      <td>NaN</td>\n",
              "      <td>NaN</td>\n",
              "      <td>NaN</td>\n",
              "      <td>NaN</td>\n",
              "      <td>NaN</td>\n",
              "      <td>NaN</td>\n",
              "      <td>NaN</td>\n",
              "      <td>NaN</td>\n",
              "      <td>NaN</td>\n",
              "      <td>NaN</td>\n",
              "      <td>NaN</td>\n",
              "      <td>NaN</td>\n",
              "      <td>ND</td>\n",
              "      <td>NaN</td>\n",
              "      <td>NaN</td>\n",
              "      <td>NaN</td>\n",
              "      <td>NaN</td>\n",
              "      <td>NaN</td>\n",
              "      <td>NaN</td>\n",
              "      <td>NaN</td>\n",
              "      <td>NaN</td>\n",
              "      <td>NaN</td>\n",
              "      <td>NaN</td>\n",
              "      <td>NaN</td>\n",
              "      <td>NaN</td>\n",
              "      <td>NaN</td>\n",
              "      <td>NaN</td>\n",
              "      <td>No</td>\n",
              "      <td>NaT</td>\n",
              "      <td>ND</td>\n",
              "      <td>Deceased</td>\n",
              "    </tr>\n",
              "    <tr>\n",
              "      <th>2</th>\n",
              "      <td>95</td>\n",
              "      <td>800</td>\n",
              "      <td>800.0</td>\n",
              "      <td>NaT</td>\n",
              "      <td>Yes</td>\n",
              "      <td>XXX</td>\n",
              "      <td>XXX</td>\n",
              "      <td>Male</td>\n",
              "      <td>NaT</td>\n",
              "      <td>800</td>\n",
              "      <td>2012-01-27</td>\n",
              "      <td>NaN</td>\n",
              "      <td>NaN</td>\n",
              "      <td>2018-06-15</td>\n",
              "      <td>Yes</td>\n",
              "      <td>NaN</td>\n",
              "      <td>No</td>\n",
              "      <td>ND</td>\n",
              "      <td>NaT</td>\n",
              "      <td>ND</td>\n",
              "      <td>ND</td>\n",
              "      <td>ND</td>\n",
              "      <td>ND</td>\n",
              "      <td>ND</td>\n",
              "      <td>ND</td>\n",
              "      <td>ND</td>\n",
              "      <td>NaN</td>\n",
              "      <td>NaN</td>\n",
              "      <td>NaN</td>\n",
              "      <td>NaN</td>\n",
              "      <td>NaN</td>\n",
              "      <td>2011-08-23</td>\n",
              "      <td>Yes</td>\n",
              "      <td>ND</td>\n",
              "      <td>ND</td>\n",
              "      <td>ND</td>\n",
              "      <td>ND</td>\n",
              "      <td>Bilateral</td>\n",
              "      <td>NaN</td>\n",
              "      <td>NaN</td>\n",
              "      <td>NaN</td>\n",
              "      <td>NaN</td>\n",
              "      <td>Yes</td>\n",
              "      <td>Yes</td>\n",
              "      <td>Yes</td>\n",
              "      <td>No</td>\n",
              "      <td>NaN</td>\n",
              "      <td>No</td>\n",
              "      <td>NaN</td>\n",
              "      <td>Number of metastasis</td>\n",
              "      <td>NaN</td>\n",
              "      <td>NaN</td>\n",
              "      <td>NaN</td>\n",
              "      <td>NaN</td>\n",
              "      <td>NaN</td>\n",
              "      <td>NaN</td>\n",
              "      <td>NaN</td>\n",
              "      <td>NaN</td>\n",
              "      <td>NaN</td>\n",
              "      <td>NaN</td>\n",
              "      <td>ND</td>\n",
              "      <td>NaN</td>\n",
              "      <td>NaN</td>\n",
              "      <td>NaN</td>\n",
              "      <td>NaN</td>\n",
              "      <td>NaN</td>\n",
              "      <td>NaN</td>\n",
              "      <td>NaN</td>\n",
              "      <td>NaN</td>\n",
              "      <td>NaN</td>\n",
              "      <td>NaN</td>\n",
              "      <td>NaN</td>\n",
              "      <td>NaN</td>\n",
              "      <td>NaN</td>\n",
              "      <td>NaN</td>\n",
              "      <td>NaN</td>\n",
              "      <td>NaT</td>\n",
              "      <td>ND</td>\n",
              "      <td>Alive</td>\n",
              "    </tr>\n",
              "    <tr>\n",
              "      <th>3</th>\n",
              "      <td>95</td>\n",
              "      <td>347</td>\n",
              "      <td>347.0</td>\n",
              "      <td>NaT</td>\n",
              "      <td>Yes</td>\n",
              "      <td>XXX</td>\n",
              "      <td>XXX</td>\n",
              "      <td>Male</td>\n",
              "      <td>NaT</td>\n",
              "      <td>347</td>\n",
              "      <td>2010-02-19</td>\n",
              "      <td>NaN</td>\n",
              "      <td>NaN</td>\n",
              "      <td>2018-06-15</td>\n",
              "      <td>Yes</td>\n",
              "      <td>NaN</td>\n",
              "      <td>Yes</td>\n",
              "      <td>ND</td>\n",
              "      <td>NaT</td>\n",
              "      <td>ND</td>\n",
              "      <td>ND</td>\n",
              "      <td>ND</td>\n",
              "      <td>ND</td>\n",
              "      <td>ND</td>\n",
              "      <td>ND</td>\n",
              "      <td>ND</td>\n",
              "      <td>NaN</td>\n",
              "      <td>NaN</td>\n",
              "      <td>NaN</td>\n",
              "      <td>NaN</td>\n",
              "      <td>NaN</td>\n",
              "      <td>NaT</td>\n",
              "      <td>Yes</td>\n",
              "      <td>3</td>\n",
              "      <td>3</td>\n",
              "      <td>ND</td>\n",
              "      <td>ND</td>\n",
              "      <td>Bilateral</td>\n",
              "      <td>NaN</td>\n",
              "      <td>NaN</td>\n",
              "      <td>NaN</td>\n",
              "      <td>NaN</td>\n",
              "      <td>Yes</td>\n",
              "      <td>Yes</td>\n",
              "      <td>Yes</td>\n",
              "      <td>No</td>\n",
              "      <td>NaN</td>\n",
              "      <td>Yes</td>\n",
              "      <td>NaN</td>\n",
              "      <td>NaN</td>\n",
              "      <td>NaN</td>\n",
              "      <td>NaN</td>\n",
              "      <td>NaN</td>\n",
              "      <td>NaN</td>\n",
              "      <td>NaN</td>\n",
              "      <td>NaN</td>\n",
              "      <td>NaN</td>\n",
              "      <td>NaN</td>\n",
              "      <td>NaN</td>\n",
              "      <td>NaN</td>\n",
              "      <td>79.3</td>\n",
              "      <td>NaN</td>\n",
              "      <td>NaN</td>\n",
              "      <td>NaN</td>\n",
              "      <td>NaN</td>\n",
              "      <td>NaN</td>\n",
              "      <td>NaN</td>\n",
              "      <td>NaN</td>\n",
              "      <td>NaN</td>\n",
              "      <td>NaN</td>\n",
              "      <td>NaN</td>\n",
              "      <td>NaN</td>\n",
              "      <td>NaN</td>\n",
              "      <td>NaN</td>\n",
              "      <td>NaN</td>\n",
              "      <td>No</td>\n",
              "      <td>NaT</td>\n",
              "      <td>79.3</td>\n",
              "      <td>Deceased</td>\n",
              "    </tr>\n",
              "    <tr>\n",
              "      <th>4</th>\n",
              "      <td>95</td>\n",
              "      <td>744</td>\n",
              "      <td>744.0</td>\n",
              "      <td>NaT</td>\n",
              "      <td>Yes</td>\n",
              "      <td>XXX</td>\n",
              "      <td>XXX</td>\n",
              "      <td>Male</td>\n",
              "      <td>NaT</td>\n",
              "      <td>744</td>\n",
              "      <td>2013-02-22</td>\n",
              "      <td>NaN</td>\n",
              "      <td>NaN</td>\n",
              "      <td>2018-06-15</td>\n",
              "      <td>No</td>\n",
              "      <td>NaN</td>\n",
              "      <td>No</td>\n",
              "      <td>Yes</td>\n",
              "      <td>2012-08-14</td>\n",
              "      <td>T4</td>\n",
              "      <td>N2</td>\n",
              "      <td>M0</td>\n",
              "      <td>ND</td>\n",
              "      <td>ND</td>\n",
              "      <td>ND</td>\n",
              "      <td>ND</td>\n",
              "      <td>NaN</td>\n",
              "      <td>NaN</td>\n",
              "      <td>NaN</td>\n",
              "      <td>NaN</td>\n",
              "      <td>NaN</td>\n",
              "      <td>2012-07-18</td>\n",
              "      <td>Yes</td>\n",
              "      <td>6</td>\n",
              "      <td>6</td>\n",
              "      <td>6</td>\n",
              "      <td>6</td>\n",
              "      <td>Unilateral</td>\n",
              "      <td>NaN</td>\n",
              "      <td>NaN</td>\n",
              "      <td>NaN</td>\n",
              "      <td>NaN</td>\n",
              "      <td>Yes</td>\n",
              "      <td>Yes</td>\n",
              "      <td>Yes</td>\n",
              "      <td>No</td>\n",
              "      <td>NaN</td>\n",
              "      <td>ND</td>\n",
              "      <td>NaN</td>\n",
              "      <td>NaN</td>\n",
              "      <td>NaN</td>\n",
              "      <td>NaN</td>\n",
              "      <td>NaN</td>\n",
              "      <td>NaN</td>\n",
              "      <td>NaN</td>\n",
              "      <td>NaN</td>\n",
              "      <td>NaN</td>\n",
              "      <td>NaN</td>\n",
              "      <td>NaN</td>\n",
              "      <td>NaN</td>\n",
              "      <td>1</td>\n",
              "      <td>NaN</td>\n",
              "      <td>NaN</td>\n",
              "      <td>NaN</td>\n",
              "      <td>NaN</td>\n",
              "      <td>NaN</td>\n",
              "      <td>NaN</td>\n",
              "      <td>NaN</td>\n",
              "      <td>NaN</td>\n",
              "      <td>NaN</td>\n",
              "      <td>NaN</td>\n",
              "      <td>NaN</td>\n",
              "      <td>NaN</td>\n",
              "      <td>NaN</td>\n",
              "      <td>NaN</td>\n",
              "      <td>No</td>\n",
              "      <td>NaT</td>\n",
              "      <td>1</td>\n",
              "      <td>Alive</td>\n",
              "    </tr>\n",
              "  </tbody>\n",
              "</table>\n",
              "</div>"
            ],
            "text/plain": [
              "   Site number  Patient number  ...  CEA (car-old) PATIENT_STATUS\n",
              "0           95             176  ...           87.9       Deceased\n",
              "1           95             331  ...             ND       Deceased\n",
              "2           95             800  ...             ND          Alive\n",
              "3           95             347  ...           79.3       Deceased\n",
              "4           95             744  ...              1          Alive\n",
              "\n",
              "[5 rows x 79 columns]"
            ]
          },
          "execution_count": 3,
          "metadata": {},
          "output_type": "execute_result"
        }
      ],
      "source": [
        "# Import libraries\n",
        "from google.colab import drive\n",
        "import pandas as pd\n",
        "import matplotlib.pyplot as plt\n",
        "import numpy as np\n",
        "# mount Google Drive\n",
        "drive.mount('/content/drive')\n",
        "# Read file and store into Pandas dataframe\n",
        "df = pd.read_excel('/content/drive/MyDrive/csv_files/Data_CN7050.xlsx')\n",
        "df.head()"
      ]
    },
    {
      "cell_type": "markdown",
      "metadata": {
        "id": "gRIIaYK0R6JW"
      },
      "source": [
        "# Data Cleaning\n",
        "\n",
        "### Visualising proportion of missing values in each feature"
      ]
    },
    {
      "cell_type": "code",
      "execution_count": null,
      "metadata": {
        "colab": {
          "base_uri": "https://localhost:8080/",
          "height": 850
        },
        "id": "9F1wV2Beb6kT",
        "outputId": "3027db5f-a3ed-474f-9763-e4f7297556f0"
      },
      "outputs": [
        {
          "data": {
            "text/plain": [
              "<matplotlib.axes._subplots.AxesSubplot at 0x7f8a1b16a7d0>"
            ]
          },
          "execution_count": 4,
          "metadata": {},
          "output_type": "execute_result"
        },
        {
          "data": {
            "image/png": "[encoded data removed]",
            "text/plain": [
              "<Figure size 1008x576 with 1 Axes>"
            ]
          },
          "metadata": {},
          "output_type": "display_data"
        }
      ],
      "source": [
        "plt.style.use('ggplot')\n",
        "\n",
        "null_vals = df.isna().mean()\n",
        "\n",
        "fig = plt.figure(figsize=(14, 8))\n",
        "plt.title('Proporting of rows with null values by Features')\n",
        "null_vals.plot(kind='bar')"
      ]
    },
    {
      "cell_type": "markdown",
      "metadata": {
        "id": "zJtZN3HXR9gE"
      },
      "source": [
        "## Handling missing values\n",
        "\n",
        "The figure above shows that some features contain large proportion of missing values. Since it is impossible to extract values from such columns, the features that have most of the values missing will be dropped (as a rule of thumb, we're setting the threshold at 0.4, i.e. 40% of missing values)"
      ]
    },
    {
      "cell_type": "code",
      "execution_count": null,
      "metadata": {
        "id": "Wrv2zu22Rhcd"
      },
      "outputs": [],
      "source": [
        "df = df.drop(columns=null_vals[null_vals > 0.4].index)\n",
        "\n",
        "# In addition, features related to patients' personal information\n",
        "# will be dropped as they do not give insights about patients' medical history\n",
        "\n",
        "df = df.drop(columns=['First name', 'Last name', 'Patient number', 'Patient id in former eCRF', 'Patient code in the center'])"
      ]
    },
    {
      "cell_type": "code",
      "execution_count": null,
      "metadata": {
        "colab": {
          "base_uri": "https://localhost:8080/",
          "height": 850
        },
        "id": "kx6M90xrUP7N",
        "outputId": "28badace-41cc-4ac7-af48-6f22f44260ed"
      },
      "outputs": [
        {
          "data": {
            "text/plain": [
              "<matplotlib.axes._subplots.AxesSubplot at 0x7f89fad88450>"
            ]
          },
          "execution_count": 6,
          "metadata": {},
          "output_type": "execute_result"
        },
        {
          "data": {
            "image/png": "[encoded data removed]",
            "text/plain": [
              "<Figure size 1224x576 with 1 Axes>"
            ]
          },
          "metadata": {},
          "output_type": "display_data"
        }
      ],
      "source": [
        "null_vals = df.isna().sum() / df.shape[0]\n",
        "\n",
        "fig = plt.figure(figsize=(17, 8))\n",
        "plt.title('Proporting of rows with null values by Features')\n",
        "null_vals.plot(kind='bar')"
      ]
    },
    {
      "cell_type": "markdown",
      "metadata": {
        "id": "IAOB5_fYVIg0"
      },
      "source": [
        "### Target variable"
      ]
    },
    {
      "cell_type": "code",
      "execution_count": null,
      "metadata": {
        "colab": {
          "base_uri": "https://localhost:8080/"
        },
        "id": "goEwD2jRVHyv",
        "outputId": "56d4dd96-0464-49dd-fc67-7846d70a4fca"
      },
      "outputs": [
        {
          "name": "stdout",
          "output_type": "stream",
          "text": [
            "['Deceased' 'Alive' nan 'Lost to follow-up']\n",
            "After cleaning\n",
            "['Deceased' 'Alive']\n"
          ]
        }
      ],
      "source": [
        "print(df['PATIENT_STATUS'].unique())\n",
        "\n",
        "df = df.dropna(subset=['PATIENT_STATUS']) #Drop missing values in the target variable\n",
        "df = df.drop(df[df['PATIENT_STATUS'] == 'Lost to follow-up'].index) #Drop category that does not provide useful information\n",
        "\n",
        "print(\"After cleaning\")\n",
        "print(df['PATIENT_STATUS'].unique())"
      ]
    },
    {
      "cell_type": "code",
      "execution_count": null,
      "metadata": {
        "colab": {
          "base_uri": "https://localhost:8080/"
        },
        "id": "GoF3vA2HFFKo",
        "outputId": "47b2f57a-93be-4f88-cec2-554f8b761cfc"
      },
      "outputs": [
        {
          "name": "stdout",
          "output_type": "stream",
          "text": [
            "Describe \n",
            "\n",
            "count     4359\n",
            "unique       2\n",
            "top        Yes\n",
            "freq      4356\n",
            "Name: Inclusion criteria, dtype: object\n",
            "Value Counts \n",
            "\n",
            "Yes    4356\n",
            "No        3\n",
            "Name: Inclusion criteria, dtype: int64\n",
            "_________________ \n",
            "\n",
            "Describe \n",
            "\n",
            "count     4357\n",
            "unique       2\n",
            "top       Male\n",
            "freq      2732\n",
            "Name: Gender, dtype: object\n",
            "Value Counts \n",
            "\n",
            "Male      2732\n",
            "Female    1625\n",
            "Name: Gender, dtype: int64\n",
            "_________________ \n",
            "\n",
            "Describe \n",
            "\n",
            "count                    3575\n",
            "unique                   3174\n",
            "top       1935-02-10 00:00:00\n",
            "freq                        4\n",
            "first     1914-08-01 00:00:00\n",
            "last      1995-09-15 00:00:00\n",
            "Name: Birth date, dtype: object\n",
            "Value Counts \n",
            "\n",
            "1935-02-10    4\n",
            "1940-02-24    4\n",
            "1944-08-03    4\n",
            "1947-05-26    4\n",
            "1948-10-28    4\n",
            "             ..\n",
            "1923-12-12    1\n",
            "1944-05-03    1\n",
            "1953-11-05    1\n",
            "1946-12-30    1\n",
            "1965-11-12    1\n",
            "Name: Birth date, Length: 3174, dtype: int64\n",
            "_________________ \n",
            "\n",
            "Describe \n",
            "\n",
            "count                    3511\n",
            "unique                   2050\n",
            "top       2007-01-22 00:00:00\n",
            "freq                      263\n",
            "first     1943-10-19 00:00:00\n",
            "last      2018-05-09 00:00:00\n",
            "Name: Date of referral in the center, dtype: object\n",
            "Value Counts \n",
            "\n",
            "2007-01-22    263\n",
            "2005-07-13     46\n",
            "2006-07-05     22\n",
            "2006-09-12     12\n",
            "2013-05-15     11\n",
            "             ... \n",
            "2005-08-10      1\n",
            "2007-06-25      1\n",
            "2012-01-18      1\n",
            "2012-07-09      1\n",
            "2012-01-09      1\n",
            "Name: Date of referral in the center, Length: 2050, dtype: int64\n",
            "_________________ \n",
            "\n",
            "Describe \n",
            "\n",
            "count     4065\n",
            "unique       3\n",
            "top         No\n",
            "freq      3007\n",
            "Name: Did the patient have pre-colectomy therapy (radiotherapy excluded), dtype: object\n",
            "Value Counts \n",
            "\n",
            "No     3007\n",
            "Yes     663\n",
            "ND      395\n",
            "Name: Did the patient have pre-colectomy therapy (radiotherapy excluded), dtype: int64\n",
            "_________________ \n",
            "\n",
            "Describe \n",
            "\n",
            "count     3351\n",
            "unique       3\n",
            "top         No\n",
            "freq      2965\n",
            "Name: Did the patient have pre-colectomy radiotherapy, dtype: object\n",
            "Value Counts \n",
            "\n",
            "No     2965\n",
            "Yes     385\n",
            "ND        1\n",
            "Name: Did the patient have pre-colectomy radiotherapy, dtype: int64\n",
            "_________________ \n",
            "\n",
            "Describe \n",
            "\n",
            "count     3987\n",
            "unique       3\n",
            "top         No\n",
            "freq      2414\n",
            "Name: Laparoscopic resection, dtype: object\n",
            "Value Counts \n",
            "\n",
            "No     2414\n",
            "ND     1074\n",
            "Yes     499\n",
            "Name: Laparoscopic resection, dtype: int64\n",
            "_________________ \n",
            "\n",
            "Describe \n",
            "\n",
            "count                    3467\n",
            "unique                   2519\n",
            "top       1999-06-15 00:00:00\n",
            "freq                        9\n",
            "first     1976-11-22 00:00:00\n",
            "last      2018-05-23 00:00:00\n",
            "Name: Date of first colectomy, dtype: object\n",
            "Value Counts \n",
            "\n",
            "1999-06-15    9\n",
            "2003-06-15    8\n",
            "2001-06-15    8\n",
            "2002-11-15    8\n",
            "2001-10-15    7\n",
            "             ..\n",
            "1993-11-03    1\n",
            "1998-05-29    1\n",
            "2002-12-22    1\n",
            "2012-02-09    1\n",
            "1996-04-05    1\n",
            "Name: Date of first colectomy, Length: 2519, dtype: int64\n",
            "_________________ \n",
            "\n",
            "Describe \n",
            "\n",
            "count     3724\n",
            "unique       8\n",
            "top         T3\n",
            "freq      2485\n",
            "Name: Tumor, dtype: object\n",
            "Value Counts \n",
            "\n",
            "T3     2485\n",
            "T4      589\n",
            "ND      527\n",
            "T2       99\n",
            "T0       18\n",
            "T4a       3\n",
            "T4b       2\n",
            "T1        1\n",
            "Name: Tumor, dtype: int64\n",
            "_________________ \n",
            "\n",
            "Describe \n",
            "\n",
            "count     4071\n",
            "unique       8\n",
            "top         N1\n",
            "freq      1284\n",
            "Name: Node, dtype: object\n",
            "Value Counts \n",
            "\n",
            "N1     1284\n",
            "N0     1272\n",
            "N2      969\n",
            "ND      533\n",
            "N1a       5\n",
            "N1b       4\n",
            "N1c       2\n",
            "N2a       2\n",
            "Name: Node, dtype: int64\n",
            "_________________ \n",
            "\n",
            "Describe \n",
            "\n",
            "count     3994\n",
            "unique       5\n",
            "top         M1\n",
            "freq      1950\n",
            "Name: Metastasis, dtype: object\n",
            "Value Counts \n",
            "\n",
            "M1     1950\n",
            "M0     1502\n",
            "ND      535\n",
            "M1a       6\n",
            "M1b       1\n",
            "Name: Metastasis, dtype: int64\n",
            "_________________ \n",
            "\n",
            "Describe \n",
            "\n",
            "count     3974\n",
            "unique      78\n",
            "top         ND\n",
            "freq      1774\n",
            "Name: Number of resected lymph nodes, dtype: object\n",
            "Value Counts \n",
            "\n",
            "ND    1774\n",
            "12     145\n",
            "10     131\n",
            "14     113\n",
            "15     112\n",
            "      ... \n",
            "73       1\n",
            "71       1\n",
            "68       1\n",
            "65       1\n",
            "58       1\n",
            "Name: Number of resected lymph nodes, Length: 78, dtype: int64\n",
            "_________________ \n",
            "\n",
            "Describe \n",
            "\n",
            "count     3971\n",
            "unique      78\n",
            "top         ND\n",
            "freq      1771\n",
            "Name: Number of resected lymph nodes.1, dtype: object\n",
            "Value Counts \n",
            "\n",
            "ND    1771\n",
            "12     145\n",
            "10     131\n",
            "14     113\n",
            "15     112\n",
            "      ... \n",
            "73       1\n",
            "71       1\n",
            "68       1\n",
            "65       1\n",
            "58       1\n",
            "Name: Number of resected lymph nodes.1, Length: 78, dtype: int64\n",
            "_________________ \n",
            "\n",
            "Describe \n",
            "\n",
            "count     3974\n",
            "unique      34\n",
            "top         ND\n",
            "freq      1630\n",
            "Name: Number of metastatic lymph nodes, dtype: object\n",
            "Value Counts \n",
            "\n",
            "ND    1630\n",
            "0      871\n",
            "1      359\n",
            "2      252\n",
            "3      187\n",
            "4      162\n",
            "5      124\n",
            "6       78\n",
            "7       67\n",
            "8       61\n",
            "9       44\n",
            "10      24\n",
            "11      17\n",
            "12      16\n",
            "14      14\n",
            "13      13\n",
            "15       9\n",
            "16       9\n",
            "17       7\n",
            "18       5\n",
            "19       5\n",
            "21       4\n",
            "20       3\n",
            "22       2\n",
            "26       2\n",
            "36       1\n",
            "67       1\n",
            "23       1\n",
            "24       1\n",
            "25       1\n",
            "27       1\n",
            "30       1\n",
            "31       1\n",
            "37       1\n",
            "Name: Number of metastatic lymph nodes, dtype: int64\n",
            "_________________ \n",
            "\n",
            "Describe \n",
            "\n",
            "count     3972\n",
            "unique      34\n",
            "top         ND\n",
            "freq      1627\n",
            "Name: Number of metastatic lymph nodes.1, dtype: object\n",
            "Value Counts \n",
            "\n",
            "ND    1627\n",
            "0      871\n",
            "1      360\n",
            "2      252\n",
            "3      187\n",
            "4      162\n",
            "5      124\n",
            "6       78\n",
            "7       67\n",
            "8       61\n",
            "9       44\n",
            "10      24\n",
            "11      17\n",
            "12      16\n",
            "14      14\n",
            "13      13\n",
            "15       9\n",
            "16       9\n",
            "17       7\n",
            "18       5\n",
            "19       5\n",
            "21       4\n",
            "20       3\n",
            "22       2\n",
            "26       2\n",
            "36       1\n",
            "67       1\n",
            "23       1\n",
            "24       1\n",
            "25       1\n",
            "27       1\n",
            "30       1\n",
            "31       1\n",
            "37       1\n",
            "Name: Number of metastatic lymph nodes.1, dtype: int64\n",
            "_________________ \n",
            "\n",
            "Describe \n",
            "\n",
            "count                    3227\n",
            "unique                   2329\n",
            "top       2002-02-15 00:00:00\n",
            "freq                       10\n",
            "first     1900-10-04 00:00:00\n",
            "last      2018-05-09 00:00:00\n",
            "Name: Diagnosis date, dtype: object\n",
            "Value Counts \n",
            "\n",
            "2002-02-15    10\n",
            "2011-12-01     8\n",
            "2011-06-01     7\n",
            "2001-02-15     6\n",
            "2006-02-15     6\n",
            "              ..\n",
            "2016-05-12     1\n",
            "2017-07-03     1\n",
            "2013-08-23     1\n",
            "2002-06-12     1\n",
            "1993-12-23     1\n",
            "Name: Diagnosis date, Length: 2329, dtype: int64\n",
            "_________________ \n",
            "\n",
            "Describe \n",
            "\n",
            "count     4058\n",
            "unique       3\n",
            "top        Yes\n",
            "freq      2281\n",
            "Name: Synchronicity of colorectal cancer, dtype: object\n",
            "Value Counts \n",
            "\n",
            "Yes    2281\n",
            "No     1757\n",
            "ND       20\n",
            "Name: Synchronicity of colorectal cancer, dtype: int64\n",
            "_________________ \n",
            "\n",
            "Describe \n",
            "\n",
            "count     4063\n",
            "unique      46\n",
            "top          1\n",
            "freq      1576\n",
            "Name: Number of hepatic metastases, dtype: int64\n",
            "Value Counts \n",
            "\n",
            "1                      1576\n",
            "2                       777\n",
            "3                       469\n",
            "ND                      333\n",
            "4                       286\n",
            "5                       166\n",
            "6                        97\n",
            "7                        56\n",
            "8                        39\n",
            ">8                       38\n",
            "10                       37\n",
            "MULTIPLES                27\n",
            "9                        24\n",
            "11                       19\n",
            "12                       19\n",
            "20                       13\n",
            "15                       12\n",
            "0                        10\n",
            "13                        9\n",
            "14                        8\n",
            "18                        5\n",
            "25                        4\n",
            "+++                       3\n",
            "MULT                      3\n",
            "30                        3\n",
            "MULTIPLE                  3\n",
            ">5                        3\n",
            "22                        2\n",
            "21                        2\n",
            "17                        2\n",
            "16                        2\n",
            "31                        2\n",
            "MULTIPLI                  1\n",
            "20+                       1\n",
            "E                         1\n",
            "MÃºLTIPLES                1\n",
            "2014-06-16 00:00:00       1\n",
            "34                        1\n",
            ">1                        1\n",
            "MLTIPLES                  1\n",
            "VARIAS                    1\n",
            "99                        1\n",
            "36                        1\n",
            ">20                       1\n",
            "29                        1\n",
            "24                        1\n",
            "Name: Number of hepatic metastases, dtype: int64\n",
            "_________________ \n",
            "\n",
            "Describe \n",
            "\n",
            "count     3976\n",
            "unique      31\n",
            "top          1\n",
            "freq      1576\n",
            "Name: Number of hepatic metastases.1, dtype: int64\n",
            "Value Counts \n",
            "\n",
            "1     1576\n",
            "2      777\n",
            "3      469\n",
            "ND     332\n",
            "4      286\n",
            "5      166\n",
            "6       97\n",
            "7       56\n",
            "8       39\n",
            "10      37\n",
            "9       24\n",
            "12      19\n",
            "11      19\n",
            "20      13\n",
            "15      12\n",
            "0       10\n",
            "13       9\n",
            "14       8\n",
            "18       5\n",
            "25       4\n",
            "30       3\n",
            "16       2\n",
            "17       2\n",
            "21       2\n",
            "22       2\n",
            "31       2\n",
            "99       1\n",
            "24       1\n",
            "29       1\n",
            "34       1\n",
            "36       1\n",
            "Name: Number of hepatic metastases.1, dtype: int64\n",
            "_________________ \n",
            "\n",
            "Describe \n",
            "\n",
            "count     4050\n",
            "unique     196\n",
            "top         ND\n",
            "freq       851\n",
            "Name: Hepatic metastases maximum size (mm), dtype: object\n",
            "Value Counts \n",
            "\n",
            "ND      851\n",
            "20      234\n",
            "30      216\n",
            "40      180\n",
            "25      140\n",
            "       ... \n",
            "13.6      1\n",
            "600       1\n",
            "104       1\n",
            "118       1\n",
            "4.4       1\n",
            "Name: Hepatic metastases maximum size (mm), Length: 196, dtype: int64\n",
            "_________________ \n",
            "\n",
            "Describe \n",
            "\n",
            "count     3950\n",
            "unique     180\n",
            "top         ND\n",
            "freq       849\n",
            "Name: Hepatic metastases maximum size, dtype: object\n",
            "Value Counts \n",
            "\n",
            "ND      849\n",
            "20      232\n",
            "30      216\n",
            "40      179\n",
            "25      140\n",
            "       ... \n",
            "20.9      1\n",
            "186       1\n",
            "11.8      1\n",
            "2.7       1\n",
            "480       1\n",
            "Name: Hepatic metastases maximum size, Length: 180, dtype: int64\n",
            "_________________ \n",
            "\n",
            "Describe \n",
            "\n",
            "count           4060\n",
            "unique             3\n",
            "top       Unilateral\n",
            "freq            2255\n",
            "Name: Localization, dtype: object\n",
            "Value Counts \n",
            "\n",
            "Unilateral    2255\n",
            "Bilateral     1681\n",
            "ND             124\n",
            "Name: Localization, dtype: int64\n",
            "_________________ \n",
            "\n",
            "Describe \n",
            "\n",
            "count     3985\n",
            "unique       3\n",
            "top        Yes\n",
            "freq      3693\n",
            "Name: CT scan abdominal, dtype: object\n",
            "Value Counts \n",
            "\n",
            "Yes    3693\n",
            "ND      183\n",
            "No      109\n",
            "Name: CT scan abdominal, dtype: int64\n",
            "_________________ \n",
            "\n",
            "Describe \n",
            "\n"
          ]
        },
        {
          "name": "stderr",
          "output_type": "stream",
          "text": [
            "/usr/local/lib/python3.7/dist-packages/ipykernel_launcher.py:3: FutureWarning: Treating datetime data as categorical rather than numeric in `.describe` is deprecated and will be removed in a future version of pandas. Specify `datetime_is_numeric=True` to silence this warning and adopt the future behavior now.\n",
            "  This is separate from the ipykernel package so we can avoid doing imports until\n",
            "/usr/local/lib/python3.7/dist-packages/ipykernel_launcher.py:3: FutureWarning: Treating datetime data as categorical rather than numeric in `.describe` is deprecated and will be removed in a future version of pandas. Specify `datetime_is_numeric=True` to silence this warning and adopt the future behavior now.\n",
            "  This is separate from the ipykernel package so we can avoid doing imports until\n",
            "/usr/local/lib/python3.7/dist-packages/ipykernel_launcher.py:3: FutureWarning: Treating datetime data as categorical rather than numeric in `.describe` is deprecated and will be removed in a future version of pandas. Specify `datetime_is_numeric=True` to silence this warning and adopt the future behavior now.\n",
            "  This is separate from the ipykernel package so we can avoid doing imports until\n",
            "/usr/local/lib/python3.7/dist-packages/ipykernel_launcher.py:3: FutureWarning: Treating datetime data as categorical rather than numeric in `.describe` is deprecated and will be removed in a future version of pandas. Specify `datetime_is_numeric=True` to silence this warning and adopt the future behavior now.\n",
            "  This is separate from the ipykernel package so we can avoid doing imports until\n"
          ]
        },
        {
          "name": "stdout",
          "output_type": "stream",
          "text": [
            "count     3978\n",
            "unique       3\n",
            "top        Yes\n",
            "freq      2728\n",
            "Name: CT scan chest, dtype: object\n",
            "Value Counts \n",
            "\n",
            "Yes    2728\n",
            "ND      891\n",
            "No      359\n",
            "Name: CT scan chest, dtype: int64\n",
            "_________________ \n",
            "\n",
            "Describe \n",
            "\n",
            "count     3961\n",
            "unique       3\n",
            "top        Yes\n",
            "freq      1879\n",
            "Name: MRI, dtype: object\n",
            "Value Counts \n",
            "\n",
            "Yes    1879\n",
            "No     1534\n",
            "ND      548\n",
            "Name: MRI, dtype: int64\n",
            "_________________ \n",
            "\n",
            "Describe \n",
            "\n",
            "count     3954\n",
            "unique       3\n",
            "top         No\n",
            "freq      1841\n",
            "Name: Pet CT, dtype: object\n",
            "Value Counts \n",
            "\n",
            "No     1841\n",
            "Yes    1168\n",
            "ND      945\n",
            "Name: Pet CT, dtype: int64\n",
            "_________________ \n",
            "\n",
            "Describe \n",
            "\n",
            "count     4056\n",
            "unique       3\n",
            "top        Yes\n",
            "freq      2474\n",
            "Name: Initial resectability, dtype: object\n",
            "Value Counts \n",
            "\n",
            "Yes    2474\n",
            "ND      918\n",
            "No      664\n",
            "Name: Initial resectability, dtype: int64\n",
            "_________________ \n",
            "\n",
            "Describe \n",
            "\n",
            "count     3976\n",
            "unique     906\n",
            "top         ND\n",
            "freq      1933\n",
            "Name: CEA, dtype: object\n",
            "Value Counts \n",
            "\n",
            "ND      1933\n",
            "3         30\n",
            "2         24\n",
            "1         21\n",
            "1.9       20\n",
            "        ... \n",
            "28.8       1\n",
            "91.6       1\n",
            "54.7       1\n",
            "4142       1\n",
            "0.75       1\n",
            "Name: CEA, Length: 906, dtype: int64\n",
            "_________________ \n",
            "\n",
            "Describe \n",
            "\n",
            "count     3716\n",
            "unique       2\n",
            "top         No\n",
            "freq      3366\n",
            "Name: Does the patient have concomitant extra-hepatic metastases, dtype: object\n",
            "Value Counts \n",
            "\n",
            "No     3366\n",
            "Yes     350\n",
            "Name: Does the patient have concomitant extra-hepatic metastases, dtype: int64\n",
            "_________________ \n",
            "\n",
            "Describe \n",
            "\n",
            "count     3949\n",
            "unique     905\n",
            "top         ND\n",
            "freq      1929\n",
            "Name: CEA (car-old), dtype: object\n",
            "Value Counts \n",
            "\n",
            "ND       1929\n",
            "3          29\n",
            "2          23\n",
            "1          21\n",
            "1.9        19\n",
            "         ... \n",
            "73          1\n",
            "51.3        1\n",
            "101.4       1\n",
            "175.4       1\n",
            "0.75        1\n",
            "Name: CEA (car-old), Length: 905, dtype: int64\n",
            "_________________ \n",
            "\n",
            "Describe \n",
            "\n",
            "count      4360\n",
            "unique        2\n",
            "top       Alive\n",
            "freq       2344\n",
            "Name: PATIENT_STATUS, dtype: object\n",
            "Value Counts \n",
            "\n",
            "Alive       2344\n",
            "Deceased    2016\n",
            "Name: PATIENT_STATUS, dtype: int64\n",
            "_________________ \n",
            "\n"
          ]
        }
      ],
      "source": [
        "for col in df[null_vals[null_vals > 0].index]:\n",
        "  print(\"Describe \\n\")\n",
        "  print(df[col].describe())\n",
        "  print(\"Value Counts \\n\")\n",
        "  print(df[col].value_counts())\n",
        "  print(\"_________________ \\n\")"
      ]
    },
    {
      "cell_type": "markdown",
      "metadata": {
        "id": "2qhjmj_M7b8J"
      },
      "source": [
        "## Converting string to numeric\n",
        "From the above, we can observe that some features are numeric, but stored as string due to string values such as, e.g. ND. These columns need to be converted to numeric\n",
        "\n",
        "`Number of hepatic metastases` contains 46 unique values where most of the values are numeric except a few. These values are possibly due to entry errors or inconsistent format of data entry. There are also some values that have special symbols together with numbers.\n",
        "This type of inconsistencies needs to be handled by removing special characters as well converting the entire column to numeric. This would imply that values containing strings will be converted to NaN.\n",
        "\n",
        "\n"
      ]
    },
    {
      "cell_type": "code",
      "execution_count": null,
      "metadata": {
        "id": "IZ5_pUoFE83T"
      },
      "outputs": [],
      "source": [
        "import re\n",
        "\n",
        "cols_to_numeric = ['Number of hepatic metastases', \n",
        "                   'Number of hepatic metastases.1', \n",
        "                   'Hepatic metastases maximum size (mm)', \n",
        "                   'Hepatic metastases maximum size',\n",
        "                   'CEA',\n",
        "                   'Number of metastatic lymph nodes.1', \n",
        "                   'Number of resected lymph nodes',\n",
        "                   'CEA (car-old)', \n",
        "                   'Number of resected lymph nodes.1', \n",
        "                   'Number of metastatic lymph nodes'\n",
        "]\n",
        "\n",
        "# Remove all special characters\n",
        "for col in cols_to_numeric:\n",
        "  df[col] = df[col].apply(lambda x: re.sub('[^0-9]+', '', str(x)))\n",
        "df = df.replace(r'^\\s*$', np.nan, regex=True)\n",
        "\n",
        "df[cols_to_numeric] = df[cols_to_numeric].astype(float)\n"
      ]
    },
    {
      "cell_type": "code",
      "execution_count": null,
      "metadata": {
        "colab": {
          "base_uri": "https://localhost:8080/"
        },
        "id": "oZxwatKxEWKp",
        "outputId": "1d8bb4fb-272d-4234-ebae-cd861db7bf14"
      },
      "outputs": [
        {
          "name": "stdout",
          "output_type": "stream",
          "text": [
            "      Site number Inclusion criteria  ... CEA (car-old) PATIENT_STATUS\n",
            "3844           59                Yes  ...           NaN          Alive\n",
            "3900           59                Yes  ...           NaN          Alive\n",
            "\n",
            "[2 rows x 33 columns]\n"
          ]
        }
      ],
      "source": [
        "# Checking for duplicates\n",
        "print(df[df.duplicated(subset=None, keep=False)])\n",
        "\n",
        "# There's only one duplicate record. This will be dropped\n",
        "df = df.drop_duplicates()"
      ]
    },
    {
      "cell_type": "code",
      "execution_count": null,
      "metadata": {
        "colab": {
          "base_uri": "https://localhost:8080/"
        },
        "id": "hfUF7I13NbwJ",
        "outputId": "c36b9d7a-a6a4-4feb-9723-a06dcb6f42c7"
      },
      "outputs": [
        {
          "name": "stdout",
          "output_type": "stream",
          "text": [
            "(4359, 33)\n",
            "(775, 33)\n"
          ]
        }
      ],
      "source": [
        "print(df.shape)\n",
        "print(df.dropna().shape)"
      ]
    },
    {
      "cell_type": "markdown",
      "metadata": {
        "id": "-OnBQMV5Oud4"
      },
      "source": [
        "Dropping all rows with missing values is not feasible as this will significantly reduce the dataset (from 4359 to 1432 rows). Therefore, other options need to be explored"
      ]
    },
    {
      "cell_type": "markdown",
      "metadata": {
        "id": "Hp1nmJXxI7Ce"
      },
      "source": [
        "## Handling datetypes"
      ]
    },
    {
      "cell_type": "code",
      "execution_count": null,
      "metadata": {
        "id": "rz0Mbjd9NefS"
      },
      "outputs": [],
      "source": [
        "# Convert date columns to datetime datatype to make it easier extract extra features\n",
        "date_cols = df.columns[df.columns.str.contains('date|Date')]\n",
        "for date_col in date_cols:\n",
        "  df.loc[:, date_col] = pd.to_datetime(df[date_col])\n"
      ]
    },
    {
      "cell_type": "code",
      "execution_count": null,
      "metadata": {
        "id": "kNju4xNyTYOu"
      },
      "outputs": [],
      "source": [
        "# Split dates into 3 features: Year, month and day\n",
        "for col in date_cols:\n",
        "  df['{}_year'.format(col)] = df[col].dt.year\n",
        "  df['{}_month'.format(col)] = df[col].dt.month\n",
        "  df['{}_day'.format(col)] = df[col].dt.day\n",
        "  df = df.drop(columns=[col]) # Remove original column\n",
        "\n",
        "new_date_cols = df.columns[df.columns.str.contains('_year|_month|_day')]"
      ]
    },
    {
      "cell_type": "code",
      "execution_count": null,
      "metadata": {
        "colab": {
          "base_uri": "https://localhost:8080/"
        },
        "id": "ZLxF2H_jFsH_",
        "outputId": "bbcc05f5-b211-418a-ea3c-758b538efe96"
      },
      "outputs": [
        {
          "name": "stdout",
          "output_type": "stream",
          "text": [
            "\n",
            "Checking for imbalance ... \n",
            "\n",
            "Counts:  \n",
            "PATIENT_STATUS\n",
            "Alive       2343\n",
            "Deceased    2016\n",
            "Name: PATIENT_STATUS, dtype: int64 \n",
            "\n",
            "\n",
            "Percentages: \n",
            "PATIENT_STATUS\n",
            "Alive       0.537509\n",
            "Deceased    0.462491\n",
            "Name: PATIENT_STATUS, dtype: float64\n",
            "\n"
          ]
        }
      ],
      "source": [
        "# Checking for imbalance\n",
        "print( f'''\n",
        "Checking for imbalance ... \\n\n",
        "Counts:  \n",
        "{df.groupby('PATIENT_STATUS')['PATIENT_STATUS'].count()} \\n\n",
        "\n",
        "Percentages: \n",
        "{df.groupby('PATIENT_STATUS')['PATIENT_STATUS'].count() / df.shape[0]}\n",
        "''')\n",
        "\n",
        "# The dataset is balanced"
      ]
    },
    {
      "cell_type": "code",
      "execution_count": null,
      "metadata": {
        "colab": {
          "base_uri": "https://localhost:8080/"
        },
        "id": "szzcmhzrVscb",
        "outputId": "63b74792-53f2-4765-895d-52ab3be392ca"
      },
      "outputs": [
        {
          "name": "stdout",
          "output_type": "stream",
          "text": [
            "Collecting miceforest\n",
            "  Downloading miceforest-5.2.0-py3-none-any.whl (69 kB)\n",
            "\u001b[?25l\r\u001b[K     |████▊                           | 10 kB 20.9 MB/s eta 0:00:01\r\u001b[K     |█████████▍                      | 20 kB 25.7 MB/s eta 0:00:01\r\u001b[K     |██████████████                  | 30 kB 21.9 MB/s eta 0:00:01\r\u001b[K     |██████████████████▊             | 40 kB 15.8 MB/s eta 0:00:01\r\u001b[K     |███████████████████████▌        | 51 kB 14.2 MB/s eta 0:00:01\r\u001b[K     |████████████████████████████▏   | 61 kB 10.6 MB/s eta 0:00:01\r\u001b[K     |████████████████████████████████| 69 kB 5.0 MB/s \n",
            "\u001b[?25hRequirement already satisfied: numpy in /usr/local/lib/python3.7/dist-packages (from miceforest) (1.19.5)\n",
            "Collecting lightgbm>=3.3.1\n",
            "  Downloading lightgbm-3.3.1-py3-none-manylinux1_x86_64.whl (2.0 MB)\n",
            "\u001b[K     |████████████████████████████████| 2.0 MB 30.8 MB/s \n",
            "\u001b[?25hRequirement already satisfied: wheel in /usr/local/lib/python3.7/dist-packages (from lightgbm>=3.3.1->miceforest) (0.37.0)\n",
            "Requirement already satisfied: scipy in /usr/local/lib/python3.7/dist-packages (from lightgbm>=3.3.1->miceforest) (1.4.1)\n",
            "Requirement already satisfied: scikit-learn!=0.22.0 in /usr/local/lib/python3.7/dist-packages (from lightgbm>=3.3.1->miceforest) (1.0.1)\n",
            "Requirement already satisfied: joblib>=0.11 in /usr/local/lib/python3.7/dist-packages (from scikit-learn!=0.22.0->lightgbm>=3.3.1->miceforest) (1.1.0)\n",
            "Requirement already satisfied: threadpoolctl>=2.0.0 in /usr/local/lib/python3.7/dist-packages (from scikit-learn!=0.22.0->lightgbm>=3.3.1->miceforest) (3.0.0)\n",
            "Installing collected packages: lightgbm, miceforest\n",
            "  Attempting uninstall: lightgbm\n",
            "    Found existing installation: lightgbm 2.2.3\n",
            "    Uninstalling lightgbm-2.2.3:\n",
            "      Successfully uninstalled lightgbm-2.2.3\n",
            "Successfully installed lightgbm-3.3.1 miceforest-5.2.0\n"
          ]
        }
      ],
      "source": [
        "!pip install miceforest"
      ]
    },
    {
      "cell_type": "markdown",
      "metadata": {
        "id": "b9KNTa0-84dW"
      },
      "source": [
        "## Data Imputation"
      ]
    },
    {
      "cell_type": "markdown",
      "metadata": {
        "id": "i6rUj_1juBHO"
      },
      "source": [
        "Multivariate imputation by chained equations (MICE), one of the most prominent multiple imputation procedures, assumes that the missing data is Missing At Random which implies that the likelihood of presence of missing values is only dependent on observed values. MICE method applies a series of regression models where each missing data variable is modelled depending on other variables. Hence, each feature can be modelled as per its distribution where continuous features are modelled using linear regression and categorical features using logistic regression, for example. \n",
        "The chained equation procedure can be generally described as per below steps:\n",
        "1.\tA single imputation is first applied for each missing value. These simple imputations can be referred as ‘Placeholders’\n",
        "2.\tThe previously defined ‘Placeholders’ for one feature are set to missing again. For explanation purposes, a dummy variable β is being introduced.\n",
        "3.\tThe regression analysis is performed on β defined in previous step where β acts as the outcome variable whereas other variables are explanatory variables.\n",
        "4.\tThe missing values of β are replaced with predicted values coming from regression analysis. It is worth mentioning that both the observed and newly imputed values are used when β is subsequently employed as predictor variable. \n",
        "5.\tSteps 2 to 4 are iterated for every variable with missing values. The iteration through each variable defines one cycle. When one cycle is completed, all of the missing values would be imputed with regression model’s predictions\n",
        "6.\tSteps 2 to 4 are then repeated for defined number of iterations where the imputation are updated at each iteration\n",
        "Typically, the optimal number of iterations (cycles) is between 20 to 100, however, even a relatively low number of iterations (typically in the range of 10 to 20) is often sufficient (10.18637/jss.v045.i03). \n"
      ]
    },
    {
      "cell_type": "code",
      "execution_count": null,
      "metadata": {
        "colab": {
          "base_uri": "https://localhost:8080/"
        },
        "id": "mhFfXNkp7ANR",
        "outputId": "3cc31978-7911-4027-aa13-c32737c722f2"
      },
      "outputs": [
        {
          "name": "stdout",
          "output_type": "stream",
          "text": [
            "              Class: ImputationKernel\n",
            "           Datasets: 20\n",
            "         Iterations: 0\n",
            "  Imputed Variables: 10\n",
            "save_all_iterations: True\n",
            "Number of hepatic metastases            0\n",
            "Number of hepatic metastases.1          0\n",
            "Hepatic metastases maximum size (mm)    0\n",
            "Hepatic metastases maximum size         0\n",
            "CEA                                     0\n",
            "Number of metastatic lymph nodes.1      0\n",
            "Number of resected lymph nodes          0\n",
            "CEA (car-old)                           0\n",
            "Number of resected lymph nodes.1        0\n",
            "Number of metastatic lymph nodes        0\n",
            "dtype: int64\n"
          ]
        }
      ],
      "source": [
        "import miceforest as mf\n",
        "\n",
        "kernel = mf.ImputationKernel(\n",
        "  df[cols_to_numeric],\n",
        "  datasets=20,\n",
        "  save_all_iterations=True,\n",
        "  random_state=1\n",
        ")\n",
        "\n",
        "\n",
        "print(kernel)\n",
        "\n",
        "completed_dataset = kernel.complete_data(dataset=1, inplace=False)\n",
        "df[cols_to_numeric] = completed_dataset\n",
        "\n",
        "# Check if there are still missing values\n",
        "print(df[cols_to_numeric].isnull().sum())"
      ]
    },
    {
      "cell_type": "code",
      "execution_count": null,
      "metadata": {
        "colab": {
          "base_uri": "https://localhost:8080/"
        },
        "id": "rVV38AvK8r5j",
        "outputId": "dba8fe95-2b13-4638-b1fe-7836dcfe3f70"
      },
      "outputs": [
        {
          "name": "stdout",
          "output_type": "stream",
          "text": [
            "              Class: ImputationKernel\n",
            "           Datasets: 20\n",
            "         Iterations: 0\n",
            "  Imputed Variables: 12\n",
            "save_all_iterations: True\n"
          ]
        }
      ],
      "source": [
        "new_date_cols = df.columns[df.columns.str.contains('_year|_month|_day')]\n",
        "\n",
        "# Imputing datetype columns\n",
        "kernel = mf.ImputationKernel(\n",
        "  df[new_date_cols],\n",
        "  datasets=20,\n",
        "  save_all_iterations=True,\n",
        "  random_state=1\n",
        ")\n",
        "\n",
        "print(kernel)\n",
        "\n",
        "completed_dataset = kernel.complete_data(dataset=1, inplace=False)\n",
        "df[new_date_cols] = completed_dataset"
      ]
    },
    {
      "cell_type": "code",
      "execution_count": null,
      "metadata": {
        "colab": {
          "base_uri": "https://localhost:8080/",
          "height": 850
        },
        "id": "7VfJ2vGBEV0T",
        "outputId": "9fbf4758-32cd-4d4e-9e73-ca11698f9890"
      },
      "outputs": [
        {
          "data": {
            "text/plain": [
              "<matplotlib.axes._subplots.AxesSubplot at 0x7f89facf9890>"
            ]
          },
          "execution_count": 18,
          "metadata": {},
          "output_type": "execute_result"
        },
        {
          "data": {
            "image/png": "[encoded data removed]",
            "text/plain": [
              "<Figure size 1224x576 with 1 Axes>"
            ]
          },
          "metadata": {},
          "output_type": "display_data"
        }
      ],
      "source": [
        "null_vals = df.isna().mean()\n",
        "null_vals = null_vals[null_vals > 0]\n",
        "fig = plt.figure(figsize=(17, 8))\n",
        "plt.title('Proporting of rows with null values by Features')\n",
        "null_vals.plot(kind='bar')"
      ]
    },
    {
      "cell_type": "markdown",
      "metadata": {
        "id": "ZBJTAamVVcY1"
      },
      "source": [
        "We are only left with categorical data\n"
      ]
    },
    {
      "cell_type": "code",
      "execution_count": null,
      "metadata": {
        "colab": {
          "base_uri": "https://localhost:8080/"
        },
        "id": "lnwdxfDRSWqs",
        "outputId": "3d740213-da36-4be6-f622-07f465f16fd7"
      },
      "outputs": [
        {
          "name": "stdout",
          "output_type": "stream",
          "text": [
            "              Class: ImputationKernel\n",
            "           Datasets: 20\n",
            "         Iterations: 0\n",
            "  Imputed Variables: 16\n",
            "save_all_iterations: True\n"
          ]
        }
      ],
      "source": [
        "categorical_columns = [\n",
        "                       'Inclusion criteria',\n",
        "                        'Gender', \n",
        "                        'Did the patient have pre-colectomy therapy (radiotherapy excluded)',\t\n",
        "                        'Did the patient have pre-colectomy radiotherapy',\n",
        "                        'Laparoscopic resection',\n",
        "                        'Tumor',\n",
        "                        'Node',\n",
        "                        'Metastasis',\n",
        "                        'Synchronicity of colorectal cancer',\n",
        "                        'Localization',\n",
        "                        'CT scan abdominal',\n",
        "                        'CT scan chest',\n",
        "                        'MRI',\n",
        "                        'Pet CT',\n",
        "                        'Initial resectability',\n",
        "                        'Does the patient have concomitant extra-hepatic metastases'\n",
        "]\n",
        "\n",
        "# Convert to categorical to be able to run MICE\n",
        "df[categorical_columns] = df[categorical_columns].astype('category')\n",
        "\n",
        "# Imputing categorical columns\n",
        "kernel = mf.ImputationKernel(\n",
        "  df[categorical_columns],\n",
        "  datasets=20,\n",
        "  save_all_iterations=True,\n",
        "  random_state=1\n",
        ")\n",
        "\n",
        "print(kernel)\n",
        "\n",
        "completed_dataset = kernel.complete_data(dataset=2, inplace=False)\n",
        "df[categorical_columns] = completed_dataset"
      ]
    },
    {
      "cell_type": "code",
      "execution_count": null,
      "metadata": {
        "id": "8sVVC_CtYpJ4"
      },
      "outputs": [],
      "source": [
        "# Convert target variable into numerical: \n",
        "# 1 means patient has liver cancer and 0 for negative cancer\n",
        "\n",
        "df['PATIENT_STATUS'] = df['PATIENT_STATUS'].replace({'Deceased': 1, 'Alive': 0})\n",
        "\n",
        "# One-Hot encoding to convert all categorical data into numerical\n",
        "df = pd.get_dummies(df)"
      ]
    },
    {
      "cell_type": "markdown",
      "metadata": {
        "id": "CCnxe2YVPOng"
      },
      "source": [
        "## Outlier detection and elimination"
      ]
    },
    {
      "cell_type": "code",
      "execution_count": null,
      "metadata": {
        "colab": {
          "base_uri": "https://localhost:8080/",
          "height": 1000
        },
        "id": "VBmQgjnQIXjV",
        "outputId": "29ddd36b-956b-4345-d994-7afd5b66b667"
      },
      "outputs": [
        {
          "data": {
            "image/png": "[encoded data removed]",
            "text/plain": [
              "<Figure size 432x288 with 1 Axes>"
            ]
          },
          "metadata": {},
          "output_type": "display_data"
        },
        {
          "data": {
            "image/png": "[encoded data removed]",
            "text/plain": [
              "<Figure size 432x288 with 1 Axes>"
            ]
          },
          "metadata": {},
          "output_type": "display_data"
        },
        {
          "data": {
            "image/png": "[encoded data removed]",
            "text/plain": [
              "<Figure size 432x288 with 1 Axes>"
            ]
          },
          "metadata": {},
          "output_type": "display_data"
        },
        {
          "data": {
            "image/png": "[encoded data removed]",
            "text/plain": [
              "<Figure size 432x288 with 1 Axes>"
            ]
          },
          "metadata": {},
          "output_type": "display_data"
        },
        {
          "data": {
            "image/png": "[encoded data removed]",
            "text/plain": [
              "<Figure size 432x288 with 1 Axes>"
            ]
          },
          "metadata": {},
          "output_type": "display_data"
        },
        {
          "data": {
            "image/png": "[encoded data removed]",
            "text/plain": [
              "<Figure size 432x288 with 1 Axes>"
            ]
          },
          "metadata": {},
          "output_type": "display_data"
        },
        {
          "data": {
            "image/png": "[encoded data removed]",
            "text/plain": [
              "<Figure size 432x288 with 1 Axes>"
            ]
          },
          "metadata": {},
          "output_type": "display_data"
        },
        {
          "data": {
            "image/png": "[encoded data removed]",
            "text/plain": [
              "<Figure size 432x288 with 1 Axes>"
            ]
          },
          "metadata": {},
          "output_type": "display_data"
        },
        {
          "data": {
            "image/png": "[encoded data removed]",
            "text/plain": [
              "<Figure size 432x288 with 1 Axes>"
            ]
          },
          "metadata": {},
          "output_type": "display_data"
        },
        {
          "data": {
            "image/png": "[encoded data removed]",
            "text/plain": [
              "<Figure size 432x288 with 1 Axes>"
            ]
          },
          "metadata": {},
          "output_type": "display_data"
        }
      ],
      "source": [
        "# plt.figure(figsize=(12, 9))\n",
        "plt.style.use('ggplot')\n",
        "\n",
        "for col in df[cols_to_numeric]:\n",
        "  plt.boxplot(df[col].dropna().values)\n",
        "  plt.title(col)\n",
        "  plt.show()"
      ]
    },
    {
      "cell_type": "markdown",
      "metadata": {
        "id": "0erKgqs33jr3"
      },
      "source": [
        "The boxplot clear illustrates that there is an outlier present in `Number of hepatic metastases` column. We will apply algorithms for outlier detection and elimination.\n"
      ]
    },
    {
      "cell_type": "markdown",
      "metadata": {
        "id": "YV7uyRhLmOR-"
      },
      "source": [
        "# Testing on a model"
      ]
    },
    {
      "cell_type": "code",
      "execution_count": null,
      "metadata": {
        "id": "Fu5wPQwamSKM"
      },
      "outputs": [],
      "source": [
        "# Splitting Data\n",
        "# Split dataset into training set and test set\n",
        "# 80% training and 20% test\n",
        "\n",
        "from sklearn.model_selection import train_test_split\n",
        "from sklearn.preprocessing import RobustScaler\n",
        "\n",
        "dataset = df\n",
        "\n",
        "# Preprocessing\n",
        "X = dataset.drop(columns=['PATIENT_STATUS'])\n",
        "y = dataset['PATIENT_STATUS']\n"
      ]
    },
    {
      "cell_type": "code",
      "execution_count": null,
      "metadata": {
        "id": "Jr607MXLI7lh"
      },
      "outputs": [],
      "source": [
        "# Splitting Data\n",
        "# Split dataset into training set and test set\n",
        "# 80% training and 20% test\n",
        "\n",
        "#from sklearn.model_selection import train_test_split\n",
        "#X_train, X_test, y_train, y_test = train_test_split(X, y, test_size=0.2, random_state=109) \n",
        "\n",
        "X_train = X\n",
        "y_train = y"
      ]
    },
    {
      "cell_type": "code",
      "execution_count": null,
      "metadata": {
        "colab": {
          "base_uri": "https://localhost:8080/"
        },
        "id": "iOvOsde9hWQN",
        "outputId": "06be0750-2baf-4a81-b956-d6434f454d47"
      },
      "outputs": [
        {
          "name": "stdout",
          "output_type": "stream",
          "text": [
            "[[ 0.16329343 -0.46690771 -0.24900791 ...  0.7995862   0.32394902\n",
            "  -0.32394902]\n",
            " [ 0.16329343 -0.53954594 -1.01173182 ...  0.7995862   0.32394902\n",
            "  -0.32394902]\n",
            " [ 0.16329343 -0.46690771  0.09768478 ... -1.25064689  0.32394902\n",
            "  -0.32394902]\n",
            " ...\n",
            " [-0.46111952 -1.26592829 -0.31834645 ... -1.25064689  0.32394902\n",
            "  -0.32394902]\n",
            " [-0.46111952  1.27640992  1.20710139 ...  0.7995862   0.32394902\n",
            "  -0.32394902]\n",
            " [-0.46111952 -0.32163124 -0.52636206 ... -1.25064689  0.32394902\n",
            "  -0.32394902]]\n"
          ]
        }
      ],
      "source": [
        "#Feature scaling\n",
        "# Scale numeric value for normalization \n",
        "from sklearn.preprocessing import StandardScaler\n",
        "from sklearn.preprocessing import RobustScaler\n",
        "\n",
        "#sc_X = RobustScaler()\n",
        "X_train = StandardScaler().fit_transform(X_train)\n",
        "#X_test = sc_X.transform(X_test)\n",
        "\n",
        "print(X_train)\n",
        "#print(X_test)"
      ]
    },
    {
      "cell_type": "markdown",
      "metadata": {
        "id": "L9gkEKsAMyM8"
      },
      "source": [
        "# Before Feature selection (SVM XGBoost Naive Bayes)"
      ]
    },
    {
      "cell_type": "code",
      "execution_count": null,
      "metadata": {
        "colab": {
          "background_save": true,
          "base_uri": "https://localhost:8080/"
        },
        "id": "lmOHKfusMww0",
        "outputId": "1b7a99e3-a8d8-47fb-ec76-1ea64eaa7942"
      },
      "outputs": [
        {
          "name": "stdout",
          "output_type": "stream",
          "text": [
            "xgb_clf 0.7529245094218392\n",
            "nb_clf 0.6219401405112757\n"
          ]
        }
      ],
      "source": [
        "#Importing required libraries\n",
        "from sklearn.model_selection import KFold \n",
        "from sklearn.linear_model import LogisticRegression\n",
        "from sklearn.metrics import accuracy_score\n",
        "from sklearn.metrics import confusion_matrix\n",
        "from sklearn.model_selection import cross_validate\n",
        "from sklearn.model_selection import cross_val_score\n",
        "from sklearn.model_selection import KFold\n",
        "\n",
        "from xgboost import XGBClassifier\n",
        "from sklearn.naive_bayes import BernoulliNB\n",
        "from sklearn import svm\n",
        "\n",
        "#Implementing cross validation\n",
        "k = 5\n",
        "seed = 109\n",
        "kf = KFold(n_splits=k, random_state=seed, shuffle=True)\n",
        "\n",
        "#Create Classifiers\n",
        "models = {\n",
        "    'xgb_clf': XGBClassifier(random_state=seed),\n",
        "    'nb_clf': BernoulliNB(),\n",
        "    'svm_clf': svm.SVC(kernel='linear', random_state=seed)\n",
        "    }\n",
        "\n",
        "def confusion_matrix_scorer(clf, X, y):\n",
        "     y_pred = clf.predict(X)\n",
        "     cm = confusion_matrix(y, y_pred)\n",
        "     return {'tn': cm[0, 0], 'fp': cm[0, 1],\n",
        "             'fn': cm[1, 0], 'tp': cm[1, 1]}\n",
        "\n",
        "scorings = ['accuracy', 'f1', 'precision', 'recall']\n",
        "\n",
        "results = {}\n",
        "results_scoring = {}\n",
        "for name, model in models.items():\n",
        "  results[name] = list(cross_val_score(model, X, y, cv=kf))\n",
        "  print(name, np.mean(results[name]))\n",
        "\n",
        "  results_scoring[name] = {}\n",
        "  for scoring in scorings:\n",
        "    results_scoring[name][scoring] = {}\n",
        "    results_scoring[name][scoring]['cv_score'] = list(cross_val_score(model, X, y, scoring = scoring, cv=kf))\n",
        "    results_scoring[name][scoring]['mean'] = np.mean(results_scoring[name][scoring]['cv_score'])\n",
        "    results_scoring[name][scoring]['std'] = np.std(results_scoring[name][scoring]['cv_score'])\n",
        "  \n",
        "  results_scoring[name]['confusion_matrix'] = cross_validate(model, X, y, scoring = confusion_matrix_scorer, cv=kf)\n",
        "\n",
        "print(results)\n",
        "print(results_scoring)"
      ]
    },
    {
      "cell_type": "code",
      "execution_count": null,
      "metadata": {
        "colab": {
          "base_uri": "https://localhost:8080/",
          "height": 372
        },
        "id": "bBEPp9LWsD24",
        "outputId": "5aa89e1b-3a81-48a6-90d6-2b41cccf3001"
      },
      "outputs": [
        {
          "data": {
            "text/plain": [
              "[Text(0, 0.5, 'accuracy'),\n",
              " Text(0.5, 1.0, 'Cross validation score(Before feature selection)')]"
            ]
          },
          "execution_count": 22,
          "metadata": {},
          "output_type": "execute_result"
        },
        {
          "data": {
            "image/png": "[encoded data removed]",
            "text/plain": [
              "<Figure size 576x360 with 1 Axes>"
            ]
          },
          "metadata": {},
          "output_type": "display_data"
        }
      ],
      "source": [
        "import matplotlib.pyplot as plt\n",
        "import seaborn as sns\n",
        "import pandas as pd\n",
        "\n",
        "# Plot showing the Cross Validation score\n",
        "\n",
        "results_df = pd.DataFrame(results)\n",
        "\n",
        "fig = plt.figure(figsize=(8, 5))\n",
        "p = sns.pointplot(data=results_df, ci='sd', dodge=0.25, linestyles='dotted')\n",
        "p.set(ylabel='accuracy', title='Cross validation score(Before feature selection)')"
      ]
    },
    {
      "cell_type": "markdown",
      "metadata": {
        "id": "3cU7KxIVO_U7"
      },
      "source": [
        "# After Feature selection"
      ]
    },
    {
      "cell_type": "code",
      "execution_count": null,
      "metadata": {
        "colab": {
          "base_uri": "https://localhost:8080/"
        },
        "id": "Oan_lCWYVEt1",
        "outputId": "544ebd07-476b-44e8-a2ea-bbed9b6a8924"
      },
      "outputs": [
        {
          "name": "stdout",
          "output_type": "stream",
          "text": [
            "(4359, 11)\n"
          ]
        }
      ],
      "source": [
        "# Splitting the selected features Data\n",
        "# Split dataset into training set and test set\n",
        "# 80% training and 20% test\n",
        "\n",
        "from sklearn.model_selection import train_test_split\n",
        "\n",
        "\n",
        "selected_features = ['Pet CT_Yes', 'Localization_Unilateral', 'Initial resectability_No', 'Date of creation of patient_day', 'Date of referral in the center_year', 'Date of first colectomy_year', 'Diagnosis date_year', 'Birth date_year', 'Node_N2', 'MRI_No', 'Date of creation of patient_month']\n",
        "\n",
        "\n",
        "#X_selected_train, X_selected_test, y_selected_train, y_selected_test = train_test_split(X[selected_features], y, test_size=0.2, random_state=109) \n",
        "\n",
        "X_selected_train = X[selected_features]\n",
        "y_selected_train = y\n",
        "#Feature scaling\n",
        "# Scale numeric value for normalization \n",
        "from sklearn.preprocessing import StandardScaler\n",
        "\n",
        "sc_X = StandardScaler()\n",
        "X_selected_train = sc_X.fit_transform(X_selected_train)\n",
        "#X_selected_test = sc_X.transform(X_selected_test)\n",
        "\n",
        "print(X_selected_train.shape)\n",
        "#print(X_selected_test.shape)"
      ]
    },
    {
      "cell_type": "code",
      "execution_count": null,
      "metadata": {
        "colab": {
          "base_uri": "https://localhost:8080/"
        },
        "id": "PoKgIWTxPHhL",
        "outputId": "65db3a24-1483-4359-d3b1-b5ea15a54551"
      },
      "outputs": [
        {
          "name": "stdout",
          "output_type": "stream",
          "text": [
            "xgb_clf 0.7398458483868589\n",
            "nb_clf 0.721491694667102\n",
            "svm_clf 0.7226416435816682\n",
            "{'xgb_clf': [0.7614678899082569, 0.7259174311926605, 0.7350917431192661, 0.7488532110091743, 0.7278989667049368], 'nb_clf': [0.7431192660550459, 0.7075688073394495, 0.7282110091743119, 0.7247706422018348, 0.703788748564868], 'svm_clf': [0.7419724770642202, 0.7041284403669725, 0.7213302752293578, 0.7282110091743119, 0.7175660160734788]}\n",
            "{'xgb_clf': {'accuracy': {'cv_score': [0.7614678899082569, 0.7259174311926605, 0.7350917431192661, 0.7488532110091743, 0.7278989667049368], 'mean': 0.7398458483868589, 'std': 0.01347572309982499}, 'f1': {'cv_score': [0.7463414634146343, 0.7217694994179279, 0.7213510253317251, 0.735826296743064, 0.719526627218935], 'mean': 0.7289629824252573, 'std': 0.010467564884666767}, 'precision': {'cv_score': [0.7355769230769231, 0.7142857142857143, 0.696969696969697, 0.7011494252873564, 0.672566371681416], 'mean': 0.7041096262602213, 'std': 0.020729022292186167}, 'recall': {'cv_score': [0.7574257425742574, 0.7294117647058823, 0.7475, 0.7741116751269036, 0.7735368956743003], 'mean': 0.7563972156162688, 'std': 0.016828568462636185}, 'confusion_matrix': {'fit_time': array([0.29251218, 0.30082965, 0.33239341, 0.3566103 , 0.28498268]), 'score_time': array([0.00607944, 0.00614905, 0.0067153 , 0.00621915, 0.006253  ]), 'test_tn': array([358, 323, 342, 348, 330]), 'test_fp': array([110, 124, 130, 130, 148]), 'test_fn': array([ 98, 115, 101,  89,  89]), 'test_tp': array([306, 310, 299, 305, 304])}}, 'nb_clf': {'accuracy': {'cv_score': [0.7431192660550459, 0.7075688073394495, 0.7282110091743119, 0.7247706422018348, 0.703788748564868], 'mean': 0.721491694667102, 'std': 0.01435892489540948}, 'f1': {'cv_score': [0.7142857142857143, 0.6982248520710058, 0.7099143206854345, 0.6984924623115577, 0.6758793969849246], 'mean': 0.6993593492677274, 'std': 0.013323291863241897}, 'precision': {'cv_score': [0.7368421052631579, 0.7023809523809523, 0.6954436450839329, 0.6915422885572139, 0.6674937965260546], 'mean': 0.6987405575622623, 'std': 0.022378673756289668}, 'recall': {'cv_score': [0.693069306930693, 0.6941176470588235, 0.725, 0.7055837563451777, 0.6844783715012722], 'mean': 0.7004498163671934, 'std': 0.013990884138605122}, 'confusion_matrix': {'fit_time': array([0.00437856, 0.00436234, 0.00417352, 0.00460935, 0.00402117]), 'score_time': array([0.00198603, 0.00192857, 0.00195789, 0.0017345 , 0.00192499]), 'test_tn': array([368, 322, 345, 354, 344]), 'test_fp': array([100, 125, 127, 124, 134]), 'test_fn': array([124, 130, 110, 116, 124]), 'test_tp': array([280, 295, 290, 278, 269])}}, 'svm_clf': {'accuracy': {'cv_score': [0.7419724770642202, 0.7041284403669725, 0.7213302752293578, 0.7282110091743119, 0.7175660160734788], 'mean': 0.7226416435816682, 'std': 0.012449251632613309}, 'f1': {'cv_score': [0.716267339218159, 0.689156626506024, 0.6935687263556116, 0.7041198501872659, 0.6925], 'mean': 0.6991225084534121, 'std': 0.009929144607179077}, 'precision': {'cv_score': [0.7300771208226221, 0.7061728395061728, 0.6997455470737913, 0.6928746928746928, 0.6805896805896806], 'mean': 0.7018919761733919, 'std': 0.016446486085947922}, 'recall': {'cv_score': [0.7029702970297029, 0.6729411764705883, 0.6875, 0.7157360406091371, 0.7048346055979644], 'mean': 0.6967964239414786, 'std': 0.014946133163913194}, 'confusion_matrix': {'fit_time': array([0.72106862, 0.63920259, 1.07054162, 1.24525833, 1.10449839]), 'score_time': array([0.05170321, 0.06044674, 0.12068272, 0.08569884, 0.08574462]), 'test_tn': array([363, 328, 354, 353, 348]), 'test_fp': array([105, 119, 118, 125, 130]), 'test_fn': array([120, 139, 125, 112, 116]), 'test_tp': array([284, 286, 275, 282, 277])}}}\n"
          ]
        }
      ],
      "source": [
        "#Importing required libraries\n",
        "from sklearn.model_selection import KFold \n",
        "from sklearn.linear_model import LogisticRegression\n",
        "from sklearn.metrics import accuracy_score\n",
        "from sklearn.model_selection import cross_val_score\n",
        "from sklearn.model_selection import KFold\n",
        "\n",
        "from xgboost import XGBClassifier\n",
        "from sklearn.naive_bayes import BernoulliNB\n",
        "from sklearn import svm\n",
        "\n",
        "#Implementing cross validation\n",
        "k = 5\n",
        "seed = 109\n",
        "kf = KFold(n_splits=k, random_state=seed, shuffle=True)\n",
        "\n",
        "#Create Classifiers\n",
        "models = {\n",
        "    'xgb_clf': XGBClassifier(random_state=seed),\n",
        "    'nb_clf': BernoulliNB(),\n",
        "    'svm_clf': svm.SVC(kernel='linear', random_state=seed)\n",
        "    }\n",
        "\n",
        "def confusion_matrix_scorer(clf, X, y):\n",
        "     y_pred = clf.predict(X)\n",
        "     cm = confusion_matrix(y, y_pred)\n",
        "     return {'tn': cm[0, 0], 'fp': cm[0, 1],\n",
        "             'fn': cm[1, 0], 'tp': cm[1, 1]}\n",
        "\n",
        "scorings = ['accuracy', 'f1', 'precision', 'recall']\n",
        "\n",
        "results = {}\n",
        "results_scoring = {}\n",
        "for name, model in models.items():\n",
        "  results[name] = list(cross_val_score(model, X_selected_train, y_selected_train, cv=kf))\n",
        "  print(name, np.mean(results[name]))\n",
        "\n",
        "  results_scoring[name] = {}\n",
        "  for scoring in scorings:\n",
        "    results_scoring[name][scoring] = {}\n",
        "    results_scoring[name][scoring]['cv_score'] = list(cross_val_score(model, X_selected_train, y_selected_train, scoring = scoring, cv=kf))\n",
        "    results_scoring[name][scoring]['mean'] = np.mean(results_scoring[name][scoring]['cv_score'])\n",
        "    results_scoring[name][scoring]['std'] = np.std(results_scoring[name][scoring]['cv_score'])\n",
        "  \n",
        "  results_scoring[name]['confusion_matrix'] = cross_validate(model, X_selected_train, y_selected_train, scoring = confusion_matrix_scorer, cv=kf)\n",
        "\n",
        "print(results)\n",
        "print(results_scoring)"
      ]
    },
    {
      "cell_type": "code",
      "execution_count": null,
      "metadata": {
        "colab": {
          "base_uri": "https://localhost:8080/",
          "height": 372
        },
        "id": "dCgxVdu60ctl",
        "outputId": "a94b815b-7feb-4be0-97c2-025b8317e8a6"
      },
      "outputs": [
        {
          "data": {
            "text/plain": [
              "[Text(0, 0.5, 'accuracy'),\n",
              " Text(0.5, 1.0, 'Cross validation score(After feature selection)')]"
            ]
          },
          "execution_count": 91,
          "metadata": {},
          "output_type": "execute_result"
        },
        {
          "data": {
            "image/png": "[encoded data removed]",
            "text/plain": [
              "<Figure size 576x360 with 1 Axes>"
            ]
          },
          "metadata": {},
          "output_type": "display_data"
        }
      ],
      "source": [
        "import matplotlib.pyplot as plt\n",
        "import seaborn as sns\n",
        "import pandas as pd\n",
        "\n",
        "# Plot showing the Cross Validation score\n",
        "\n",
        "results_df = pd.DataFrame(results)\n",
        "\n",
        "fig = plt.figure(figsize=(8, 5))\n",
        "p = sns.pointplot(data=results_df, ci='sd', dodge=0.25, linestyles='dotted')\n",
        "p.set(ylabel='accuracy', title='Cross validation score(After feature selection)')"
      ]
    },
    {
      "cell_type": "markdown",
      "metadata": {
        "id": "h_PDZAUMjUSj"
      },
      "source": [
        "# Parameter Tuning"
      ]
    },
    {
      "cell_type": "markdown",
      "metadata": {
        "id": "0POZ-urkWjwk"
      },
      "source": [
        "## SVM"
      ]
    },
    {
      "cell_type": "code",
      "execution_count": null,
      "metadata": {
        "colab": {
          "base_uri": "https://localhost:8080/"
        },
        "id": "Vp_mwNnojWya",
        "outputId": "27fa6065-7769-4f30-8559-c7d546a7efc8"
      },
      "outputs": [
        {
          "name": "stdout",
          "output_type": "stream",
          "text": [
            "0.538 (+/-0.001) for {'C': 0.001, 'gamma': 0.01, 'kernel': 'rbf'}\n",
            "0.538 (+/-0.001) for {'C': 0.001, 'gamma': 0.001, 'kernel': 'rbf'}\n",
            "0.538 (+/-0.001) for {'C': 0.001, 'gamma': 0.0001, 'kernel': 'rbf'}\n",
            "0.538 (+/-0.001) for {'C': 0.001, 'gamma': 1e-05, 'kernel': 'rbf'}\n",
            "0.714 (+/-0.030) for {'C': 0.1, 'gamma': 0.01, 'kernel': 'rbf'}\n",
            "0.582 (+/-0.010) for {'C': 0.1, 'gamma': 0.001, 'kernel': 'rbf'}\n",
            "0.538 (+/-0.001) for {'C': 0.1, 'gamma': 0.0001, 'kernel': 'rbf'}\n",
            "0.538 (+/-0.001) for {'C': 0.1, 'gamma': 1e-05, 'kernel': 'rbf'}\n",
            "0.714 (+/-0.030) for {'C': 0.1, 'gamma': 0.01, 'kernel': 'rbf'}\n",
            "0.582 (+/-0.010) for {'C': 0.1, 'gamma': 0.001, 'kernel': 'rbf'}\n",
            "0.538 (+/-0.001) for {'C': 0.1, 'gamma': 0.0001, 'kernel': 'rbf'}\n",
            "0.538 (+/-0.001) for {'C': 0.1, 'gamma': 1e-05, 'kernel': 'rbf'}\n",
            "0.727 (+/-0.026) for {'C': 10, 'gamma': 0.01, 'kernel': 'rbf'}\n",
            "0.722 (+/-0.022) for {'C': 10, 'gamma': 0.001, 'kernel': 'rbf'}\n",
            "0.716 (+/-0.023) for {'C': 10, 'gamma': 0.0001, 'kernel': 'rbf'}\n",
            "0.584 (+/-0.009) for {'C': 10, 'gamma': 1e-05, 'kernel': 'rbf'}\n",
            "0.730 (+/-0.026) for {'C': 25, 'gamma': 0.01, 'kernel': 'rbf'}\n",
            "0.722 (+/-0.022) for {'C': 25, 'gamma': 0.001, 'kernel': 'rbf'}\n",
            "0.720 (+/-0.023) for {'C': 25, 'gamma': 0.0001, 'kernel': 'rbf'}\n",
            "0.705 (+/-0.028) for {'C': 25, 'gamma': 1e-05, 'kernel': 'rbf'}\n",
            "0.731 (+/-0.020) for {'C': 50, 'gamma': 0.01, 'kernel': 'rbf'}\n",
            "0.722 (+/-0.023) for {'C': 50, 'gamma': 0.001, 'kernel': 'rbf'}\n",
            "0.720 (+/-0.020) for {'C': 50, 'gamma': 0.0001, 'kernel': 'rbf'}\n",
            "0.709 (+/-0.029) for {'C': 50, 'gamma': 1e-05, 'kernel': 'rbf'}\n",
            "0.729 (+/-0.023) for {'C': 100, 'gamma': 0.01, 'kernel': 'rbf'}\n",
            "0.724 (+/-0.023) for {'C': 100, 'gamma': 0.001, 'kernel': 'rbf'}\n",
            "0.719 (+/-0.025) for {'C': 100, 'gamma': 0.0001, 'kernel': 'rbf'}\n",
            "0.716 (+/-0.023) for {'C': 100, 'gamma': 1e-05, 'kernel': 'rbf'}\n",
            "0.723 (+/-0.017) for {'C': 1000, 'gamma': 0.01, 'kernel': 'rbf'}\n",
            "0.727 (+/-0.019) for {'C': 1000, 'gamma': 0.001, 'kernel': 'rbf'}\n",
            "0.722 (+/-0.025) for {'C': 1000, 'gamma': 0.0001, 'kernel': 'rbf'}\n",
            "0.718 (+/-0.022) for {'C': 1000, 'gamma': 1e-05, 'kernel': 'rbf'}\n",
            "0.538 (+/-0.001) for {'C': 0.001, 'gamma': 0.01, 'kernel': 'sigmoid'}\n",
            "0.538 (+/-0.001) for {'C': 0.001, 'gamma': 0.001, 'kernel': 'sigmoid'}\n",
            "0.538 (+/-0.001) for {'C': 0.001, 'gamma': 0.0001, 'kernel': 'sigmoid'}\n",
            "0.538 (+/-0.001) for {'C': 0.001, 'gamma': 1e-05, 'kernel': 'sigmoid'}\n",
            "0.709 (+/-0.029) for {'C': 0.1, 'gamma': 0.01, 'kernel': 'sigmoid'}\n",
            "0.539 (+/-0.005) for {'C': 0.1, 'gamma': 0.001, 'kernel': 'sigmoid'}\n",
            "0.538 (+/-0.001) for {'C': 0.1, 'gamma': 0.0001, 'kernel': 'sigmoid'}\n",
            "0.538 (+/-0.001) for {'C': 0.1, 'gamma': 1e-05, 'kernel': 'sigmoid'}\n",
            "0.709 (+/-0.029) for {'C': 0.1, 'gamma': 0.01, 'kernel': 'sigmoid'}\n",
            "0.539 (+/-0.005) for {'C': 0.1, 'gamma': 0.001, 'kernel': 'sigmoid'}\n",
            "0.538 (+/-0.001) for {'C': 0.1, 'gamma': 0.0001, 'kernel': 'sigmoid'}\n",
            "0.538 (+/-0.001) for {'C': 0.1, 'gamma': 1e-05, 'kernel': 'sigmoid'}\n",
            "0.712 (+/-0.019) for {'C': 10, 'gamma': 0.01, 'kernel': 'sigmoid'}\n",
            "0.721 (+/-0.020) for {'C': 10, 'gamma': 0.001, 'kernel': 'sigmoid'}\n",
            "0.709 (+/-0.029) for {'C': 10, 'gamma': 0.0001, 'kernel': 'sigmoid'}\n",
            "0.539 (+/-0.005) for {'C': 10, 'gamma': 1e-05, 'kernel': 'sigmoid'}\n",
            "0.710 (+/-0.025) for {'C': 25, 'gamma': 0.01, 'kernel': 'sigmoid'}\n",
            "0.717 (+/-0.020) for {'C': 25, 'gamma': 0.001, 'kernel': 'sigmoid'}\n",
            "0.717 (+/-0.023) for {'C': 25, 'gamma': 0.0001, 'kernel': 'sigmoid'}\n",
            "0.633 (+/-0.024) for {'C': 25, 'gamma': 1e-05, 'kernel': 'sigmoid'}\n",
            "0.709 (+/-0.015) for {'C': 50, 'gamma': 0.01, 'kernel': 'sigmoid'}\n",
            "0.717 (+/-0.017) for {'C': 50, 'gamma': 0.001, 'kernel': 'sigmoid'}\n",
            "0.720 (+/-0.022) for {'C': 50, 'gamma': 0.0001, 'kernel': 'sigmoid'}\n",
            "0.705 (+/-0.028) for {'C': 50, 'gamma': 1e-05, 'kernel': 'sigmoid'}\n",
            "0.697 (+/-0.011) for {'C': 100, 'gamma': 0.01, 'kernel': 'sigmoid'}\n",
            "0.720 (+/-0.018) for {'C': 100, 'gamma': 0.001, 'kernel': 'sigmoid'}\n",
            "0.721 (+/-0.019) for {'C': 100, 'gamma': 0.0001, 'kernel': 'sigmoid'}\n",
            "0.709 (+/-0.029) for {'C': 100, 'gamma': 1e-05, 'kernel': 'sigmoid'}\n",
            "0.658 (+/-0.043) for {'C': 1000, 'gamma': 0.01, 'kernel': 'sigmoid'}\n",
            "0.716 (+/-0.022) for {'C': 1000, 'gamma': 0.001, 'kernel': 'sigmoid'}\n",
            "0.720 (+/-0.019) for {'C': 1000, 'gamma': 0.0001, 'kernel': 'sigmoid'}\n",
            "0.721 (+/-0.019) for {'C': 1000, 'gamma': 1e-05, 'kernel': 'sigmoid'}\n",
            "0.709 (+/-0.029) for {'C': 0.001, 'kernel': 'linear'}\n",
            "0.720 (+/-0.019) for {'C': 0.1, 'kernel': 'linear'}\n",
            "0.720 (+/-0.019) for {'C': 0.1, 'kernel': 'linear'}\n",
            "0.720 (+/-0.019) for {'C': 10, 'kernel': 'linear'}\n",
            "0.720 (+/-0.019) for {'C': 25, 'kernel': 'linear'}\n",
            "0.720 (+/-0.019) for {'C': 50, 'kernel': 'linear'}\n",
            "0.720 (+/-0.019) for {'C': 100, 'kernel': 'linear'}\n",
            "0.720 (+/-0.020) for {'C': 1000, 'kernel': 'linear'}\n"
          ]
        }
      ],
      "source": [
        "# Sensitivity, Specificity, Precision, Recall, F1 and Confusion Matrix\n",
        "\n",
        "from sklearn.model_selection import GridSearchCV\n",
        "\n",
        "# Set the parameters by cross-validation\n",
        "svm_tuned_parameters = [{'kernel': ['linear'], 'C': [0.001, 0.10, 0.1, 10, 20, 50, 100, 1000]}]\n",
        "\n",
        "grid = GridSearchCV(svm.SVC(random_state=seed), svm_tuned_parameters, cv=5, scoring='accuracy')\n",
        "grid.fit(X_selected_train, y_selected_train)\n",
        "\n",
        "means = grid.cv_results_['mean_test_score']\n",
        "stds = grid.cv_results_['std_test_score']\n",
        "#for mean, std, params in zip(means, stds, grid.cv_results_['params']):\n",
        "  #print(\"%0.3f (+/-%0.03f) for %r\" % (mean, std * 2, params))\n",
        "\n",
        "    \n"
      ]
    },
    {
      "cell_type": "code",
      "execution_count": null,
      "metadata": {
        "colab": {
          "base_uri": "https://localhost:8080/"
        },
        "id": "AQtJ_Ef7XL1G",
        "outputId": "cf2fa68c-98dd-404d-cd94-1dd505d1b1c6"
      },
      "outputs": [
        {
          "name": "stdout",
          "output_type": "stream",
          "text": [
            "best_params_:\n",
            "{'C': 50, 'gamma': 0.01, 'kernel': 'rbf'}\n",
            "best_estimator_:\n",
            "SVC(C=50, gamma=0.01)\n"
          ]
        }
      ],
      "source": [
        "print(\"best_params_:\")\n",
        "print(grid.best_params_)\n",
        "\n",
        "print(\"best_estimator_:\")\n",
        "print(grid.best_estimator_)"
      ]
    },
    {
      "cell_type": "markdown",
      "metadata": {
        "id": "Rj6M_970aTsA"
      },
      "source": [
        "## XGBoost"
      ]
    },
    {
      "cell_type": "code",
      "execution_count": null,
      "metadata": {
        "colab": {
          "base_uri": "https://localhost:8080/"
        },
        "id": "sA0WGFrMaX0P",
        "outputId": "a15e388a-62a8-464a-83fe-f261a1e81651"
      },
      "outputs": [
        {
          "name": "stdout",
          "output_type": "stream",
          "text": [
            "XGBoost : best_params_:\n",
            "{'learning_rate': 0.1, 'max_depth': 1, 'n_estimators': 100}\n",
            "XGBoost : best_estimator_:\n",
            "XGBClassifier(max_depth=1, random_state=109)\n"
          ]
        }
      ],
      "source": [
        "# A parameter grid for XGBoost\n",
        "\n",
        "xgboost_tuned_parameters = {\n",
        "    'max_depth': range (1, 3, 5),\n",
        "    'n_estimators': [100, 200, 300],\n",
        "    'learning_rate': [0.1, 0.01, 0.05]\n",
        "}\n",
        "\n",
        "grid = GridSearchCV(XGBClassifier(random_state=seed), xgboost_tuned_parameters, cv=5, scoring='accuracy')\n",
        "grid.fit(X_selected_train, y_selected_train)\n",
        "\n",
        "print(\"XGBoost : best_params_:\")\n",
        "print(grid.best_params_)\n",
        "\n",
        "print(\"XGBoost : best_estimator_:\")\n",
        "print(grid.best_estimator_)"
      ]
    },
    {
      "cell_type": "markdown",
      "metadata": {
        "id": "k8GZEhI_ouaf"
      },
      "source": [
        "# After parameter tuning"
      ]
    },
    {
      "cell_type": "code",
      "execution_count": null,
      "metadata": {
        "colab": {
          "base_uri": "https://localhost:8080/"
        },
        "id": "OnymJrk0oti_",
        "outputId": "20b9a3cb-49bf-4952-eb48-0bbd9ba79c9a"
      },
      "outputs": [
        {
          "name": "stdout",
          "output_type": "stream",
          "text": [
            "xgb_clf 0.7409963239553818\n",
            "nb_clf 0.721491694667102\n",
            "svm_clf 0.7393889760793773\n",
            "{'xgb_clf': [0.7465596330275229, 0.7259174311926605, 0.7454128440366973, 0.7431192660550459, 0.7439724454649828], 'nb_clf': [0.7431192660550459, 0.7075688073394495, 0.7282110091743119, 0.7247706422018348, 0.703788748564868], 'svm_clf': [0.7477064220183486, 0.7224770642201835, 0.7396788990825688, 0.7511467889908257, 0.7359357060849598]}\n",
            "{'xgb_clf': {'accuracy': {'cv_score': [0.7465596330275229, 0.7259174311926605, 0.7454128440366973, 0.7431192660550459, 0.7439724454649828], 'mean': 0.7409963239553818, 'std': 0.00763142511997484}, 'f1': {'cv_score': [0.7301587301587301, 0.7144563918757467, 0.7272727272727273, 0.7220843672456577, 0.7296969696969696], 'mean': 0.7247338372499662, 'std': 0.005884788594835447}, 'precision': {'cv_score': [0.7204819277108434, 0.7257281553398058, 0.714975845410628, 0.7063106796116505, 0.6967592592592593], 'mean': 0.7128511734664376, 'std': 0.010298417995903019}, 'recall': {'cv_score': [0.7400990099009901, 0.7035294117647058, 0.74, 0.7385786802030457, 0.7659033078880407], 'mean': 0.7376220819513565, 'std': 0.019873815172061927}, 'confusion_matrix': {'fit_time': array([0.26899743, 0.26885962, 0.27275491, 0.27515793, 0.26738191]), 'score_time': array([0.00630975, 0.00623202, 0.00756145, 0.00605631, 0.00620174]), 'test_tn': array([352, 334, 354, 357, 347]), 'test_fp': array([116, 113, 118, 121, 131]), 'test_fn': array([105, 126, 104, 103,  92]), 'test_tp': array([299, 299, 296, 291, 301])}}, 'nb_clf': {'accuracy': {'cv_score': [0.7431192660550459, 0.7075688073394495, 0.7282110091743119, 0.7247706422018348, 0.703788748564868], 'mean': 0.721491694667102, 'std': 0.01435892489540948}, 'f1': {'cv_score': [0.7142857142857143, 0.6982248520710058, 0.7099143206854345, 0.6984924623115577, 0.6758793969849246], 'mean': 0.6993593492677274, 'std': 0.013323291863241897}, 'precision': {'cv_score': [0.7368421052631579, 0.7023809523809523, 0.6954436450839329, 0.6915422885572139, 0.6674937965260546], 'mean': 0.6987405575622623, 'std': 0.022378673756289668}, 'recall': {'cv_score': [0.693069306930693, 0.6941176470588235, 0.725, 0.7055837563451777, 0.6844783715012722], 'mean': 0.7004498163671934, 'std': 0.013990884138605122}, 'confusion_matrix': {'fit_time': array([0.00242519, 0.00237894, 0.00237322, 0.00235868, 0.00234413]), 'score_time': array([0.00119567, 0.00113845, 0.00125813, 0.0011251 , 0.00112295]), 'test_tn': array([368, 322, 345, 354, 344]), 'test_fp': array([100, 125, 127, 124, 134]), 'test_fn': array([124, 130, 110, 116, 124]), 'test_tp': array([280, 295, 290, 278, 269])}}, 'svm_clf': {'accuracy': {'cv_score': [0.7477064220183486, 0.7224770642201835, 0.7396788990825688, 0.7511467889908257, 0.7359357060849598], 'mean': 0.7393889760793773, 'std': 0.010054332032945734}, 'f1': {'cv_score': [0.728395061728395, 0.7125890736342042, 0.7235079171741778, 0.735042735042735, 0.7228915662650603], 'mean': 0.7244852707689144, 'std': 0.007372396321447595}, 'precision': {'cv_score': [0.7266009852216748, 0.7194244604316546, 0.7054631828978623, 0.7082352941176471, 0.6864988558352403], 'mean': 0.7092445557008158, 'std': 0.013693504720373968}, 'recall': {'cv_score': [0.7301980198019802, 0.7058823529411765, 0.7425, 0.7639593908629442, 0.7633587786259542], 'mean': 0.741179708446411, 'std': 0.021813156791073693}, 'confusion_matrix': {'fit_time': array([0.70628786, 0.70917273, 0.71860838, 0.72247887, 0.71659207]), 'score_time': array([0.1255796 , 0.12343621, 0.12330794, 0.12302995, 0.12357521]), 'test_tn': array([357, 330, 348, 354, 341]), 'test_fp': array([111, 117, 124, 124, 137]), 'test_fn': array([109, 125, 103,  93,  93]), 'test_tp': array([295, 300, 297, 301, 300])}}}\n"
          ]
        }
      ],
      "source": [
        "#Importing required libraries\n",
        "from sklearn.model_selection import KFold \n",
        "from sklearn.linear_model import LogisticRegression\n",
        "from sklearn.metrics import accuracy_score\n",
        "from sklearn.model_selection import cross_val_score\n",
        "from sklearn.model_selection import KFold\n",
        "\n",
        "from xgboost import XGBClassifier\n",
        "from sklearn.naive_bayes import BernoulliNB\n",
        "from sklearn import svm\n",
        "\n",
        "#Implementing cross validation\n",
        "k = 5\n",
        "seed = 109\n",
        "kf = KFold(n_splits=k, random_state=seed, shuffle=True)\n",
        "\n",
        "#Create Classifiers\n",
        "models = {\n",
        "    'xgb_clf': XGBClassifier(learning_rate = 0.1, max_depth = 5, n_estimators = 100, random_state=seed),\n",
        "    'nb_clf': BernoulliNB(),\n",
        "    'svm_clf': svm.SVC(kernel='rbf', C=50, gamma=0.01, random_state=seed)\n",
        "    }\n",
        "\n",
        "\n",
        "def confusion_matrix_scorer(clf, X, y):\n",
        "     y_pred = clf.predict(X)\n",
        "     cm = confusion_matrix(y, y_pred)\n",
        "     return {'tn': cm[0, 0], 'fp': cm[0, 1],\n",
        "             'fn': cm[1, 0], 'tp': cm[1, 1]}\n",
        "\n",
        "scorings = ['accuracy', 'f1', 'precision', 'recall']\n",
        "\n",
        "results = {}\n",
        "results_scoring = {}\n",
        "for name, model in models.items():\n",
        "  results[name] = list(cross_val_score(model, X_selected_train, y_selected_train, cv=kf))\n",
        "  print(name, np.mean(results[name]))\n",
        "\n",
        "  results_scoring[name] = {}\n",
        "  for scoring in scorings:\n",
        "    results_scoring[name][scoring] = {}\n",
        "    results_scoring[name][scoring]['cv_score'] = list(cross_val_score(model, X_selected_train, y_selected_train, scoring = scoring, cv=kf))\n",
        "    results_scoring[name][scoring]['mean'] = np.mean(results_scoring[name][scoring]['cv_score'])\n",
        "    results_scoring[name][scoring]['std'] = np.std(results_scoring[name][scoring]['cv_score'])\n",
        "  \n",
        "  results_scoring[name]['confusion_matrix'] = cross_validate(model, X_selected_train, y_selected_train, scoring = confusion_matrix_scorer, cv=kf)\n",
        "\n",
        "print(results)\n",
        "print(results_scoring)"
      ]
    },
    {
      "cell_type": "code",
      "execution_count": null,
      "metadata": {
        "colab": {
          "base_uri": "https://localhost:8080/",
          "height": 372
        },
        "id": "gnl8bPyf0kKT",
        "outputId": "c35adab1-4683-41bd-d1e0-ddb4ecc47117"
      },
      "outputs": [
        {
          "data": {
            "text/plain": [
              "[Text(0, 0.5, 'accuracy'),\n",
              " Text(0.5, 1.0, 'Cross validation score(After parameter tuning)')]"
            ]
          },
          "execution_count": 31,
          "metadata": {},
          "output_type": "execute_result"
        },
        {
          "data": {
            "image/png": "[encoded data removed]",
            "text/plain": [
              "<Figure size 576x360 with 1 Axes>"
            ]
          },
          "metadata": {},
          "output_type": "display_data"
        }
      ],
      "source": [
        "import matplotlib.pyplot as plt\n",
        "import seaborn as sns\n",
        "import pandas as pd\n",
        "\n",
        "# Plot showing the Cross Validation score\n",
        "\n",
        "results_df = pd.DataFrame(results)\n",
        "\n",
        "fig = plt.figure(figsize=(8, 5))\n",
        "p = sns.pointplot(data=results_df, ci='sd', dodge=0.25, linestyles='dotted')\n",
        "p.set(ylabel='accuracy', title='Cross validation score(After parameter tuning)')"
      ]
    },
    {
      "cell_type": "markdown",
      "source": [
        "# Convert ipynb to HTML"
      ],
      "metadata": {
        "id": "3Ii2kwbtozul"
      }
    },
    {
      "cell_type": "code",
      "source": [
        "# install nbconvert\n",
        "!pip install nbconvert\n",
        "# convert ipynb to html\n",
        "# file name: \"/content/CN_7050_Coursework.ipynb\"\n",
        "!jupyter nbconvert --to html CN_7050_Coursework.ipynb"
      ],
      "metadata": {
        "colab": {
          "base_uri": "https://localhost:8080/"
        },
        "id": "dKF_P8cPoZ4u",
        "outputId": "cd9be45c-d46e-4491-f456-450ede5eb25d"
      },
      "execution_count": null,
      "outputs": [
        {
          "output_type": "stream",
          "name": "stdout",
          "text": [
            "Requirement already satisfied: nbconvert in /usr/local/lib/python3.7/dist-packages (5.6.1)\n",
            "Requirement already satisfied: pygments in /usr/local/lib/python3.7/dist-packages (from nbconvert) (2.6.1)\n",
            "Requirement already satisfied: nbformat>=4.4 in /usr/local/lib/python3.7/dist-packages (from nbconvert) (5.1.3)\n",
            "Requirement already satisfied: jinja2>=2.4 in /usr/local/lib/python3.7/dist-packages (from nbconvert) (2.11.3)\n",
            "Requirement already satisfied: entrypoints>=0.2.2 in /usr/local/lib/python3.7/dist-packages (from nbconvert) (0.3)\n",
            "Requirement already satisfied: defusedxml in /usr/local/lib/python3.7/dist-packages (from nbconvert) (0.7.1)\n",
            "Requirement already satisfied: pandocfilters>=1.4.1 in /usr/local/lib/python3.7/dist-packages (from nbconvert) (1.5.0)\n",
            "Requirement already satisfied: jupyter-core in /usr/local/lib/python3.7/dist-packages (from nbconvert) (4.9.1)\n",
            "Requirement already satisfied: testpath in /usr/local/lib/python3.7/dist-packages (from nbconvert) (0.5.0)\n",
            "Requirement already satisfied: traitlets>=4.2 in /usr/local/lib/python3.7/dist-packages (from nbconvert) (5.1.1)\n",
            "Requirement already satisfied: mistune<2,>=0.8.1 in /usr/local/lib/python3.7/dist-packages (from nbconvert) (0.8.4)\n",
            "Requirement already satisfied: bleach in /usr/local/lib/python3.7/dist-packages (from nbconvert) (4.1.0)\n",
            "Requirement already satisfied: MarkupSafe>=0.23 in /usr/local/lib/python3.7/dist-packages (from jinja2>=2.4->nbconvert) (2.0.1)\n",
            "Requirement already satisfied: jsonschema!=2.5.0,>=2.4 in /usr/local/lib/python3.7/dist-packages (from nbformat>=4.4->nbconvert) (2.6.0)\n",
            "Requirement already satisfied: ipython-genutils in /usr/local/lib/python3.7/dist-packages (from nbformat>=4.4->nbconvert) (0.2.0)\n",
            "Requirement already satisfied: webencodings in /usr/local/lib/python3.7/dist-packages (from bleach->nbconvert) (0.5.1)\n",
            "Requirement already satisfied: packaging in /usr/local/lib/python3.7/dist-packages (from bleach->nbconvert) (21.3)\n",
            "Requirement already satisfied: six>=1.9.0 in /usr/local/lib/python3.7/dist-packages (from bleach->nbconvert) (1.15.0)\n",
            "Requirement already satisfied: pyparsing!=3.0.5,>=2.0.2 in /usr/local/lib/python3.7/dist-packages (from packaging->bleach->nbconvert) (3.0.6)\n",
            "[NbConvertApp] Converting notebook CN_7050_Coursework.ipynb to html\n",
            "[NbConvertApp] Writing 855482 bytes to CN_7050_Coursework.html\n"
          ]
        }
      ]
    },
    {
      "cell_type": "code",
      "source": [
        ""
      ],
      "metadata": {
        "id": "w4C1fsOTuM8K"
      },
      "execution_count": null,
      "outputs": []
    }
  ],
  "metadata": {
    "accelerator": "GPU",
    "colab": {
      "collapsed_sections": [],
      "name": "CN7050_CRWK.ipynb",
      "provenance": [],
      "toc_visible": true
    },
    "kernelspec": {
      "display_name": "Python 3",
      "name": "python3"
    },
    "language_info": {
      "name": "python"
    }
  },
  "nbformat": 4,
  "nbformat_minor": 0
}